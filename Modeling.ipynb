{
 "cells": [
  {
   "cell_type": "markdown",
   "metadata": {},
   "source": [
    "Finally, we are at the modeling phase. Here, I will complete the steps to produce a recommender based on a single movie, and test how well the recommender performs based on the Movielens dataset."
   ]
  },
  {
   "cell_type": "markdown",
   "metadata": {},
   "source": [
    "First, I import the necessary libraries."
   ]
  },
  {
   "cell_type": "code",
   "execution_count": 2,
   "metadata": {},
   "outputs": [],
   "source": [
    "import numpy as np\n",
    "import pandas as pd\n",
    "import seaborn as sns\n",
    "import matplotlib.pyplot as plt\n",
    "from sklearn import metrics\n",
    "from sklearn.cluster import KMeans\n",
    "from sklearn.decomposition import PCA\n",
    "from sklearn.neighbors import KNeighborsClassifier\n",
    "from sklearn.preprocessing import StandardScaler\n",
    "from sklearn.preprocessing import normalize\n",
    "from sklearn.metrics.pairwise import cosine_similarity"
   ]
  },
  {
   "cell_type": "markdown",
   "metadata": {},
   "source": [
    "Now, I import the relevant files that were the output of previous steps."
   ]
  },
  {
   "cell_type": "code",
   "execution_count": 8,
   "metadata": {},
   "outputs": [
    {
     "name": "stderr",
     "output_type": "stream",
     "text": [
      "<ipython-input-8-a1ac1c318feb>:3: SettingWithCopyWarning: \n",
      "A value is trying to be set on a copy of a slice from a DataFrame.\n",
      "Try using .loc[row_indexer,col_indexer] = value instead\n",
      "\n",
      "See the caveats in the documentation: https://pandas.pydata.org/pandas-docs/stable/user_guide/indexing.html#returning-a-view-versus-a-copy\n",
      "  title_id['title'] = title_id['title'].str.lower()\n"
     ]
    },
    {
     "name": "stdout",
     "output_type": "stream",
     "text": [
      "(9821, 103)\n"
     ]
    }
   ],
   "source": [
    "movielens_movies = pd.read_csv(\"movies_everything_new.csv\")\n",
    "title_id = movielens_movies[['title','movieId']]\n",
    "title_id['title'] = title_id['title'].str.lower()\n",
    "\n",
    "title_id = title_id.set_index('movieId')\n",
    "\n",
    "print(movielens_movies.shape)\n",
    "\n",
    "ratings = pd.read_csv('ratings1000.csv')\n",
    "words = pd.read_csv('all_words_final.csv')"
   ]
  },
  {
   "cell_type": "markdown",
   "metadata": {},
   "source": [
    "I create a pivot table for the words dataframe, with movieId as the index, and each word as a column, with the entries being the number of times each word has appeared in the movie's reviews."
   ]
  },
  {
   "cell_type": "code",
   "execution_count": 9,
   "metadata": {},
   "outputs": [],
   "source": [
    "words_pivot = words.pivot(index='movieId',columns='Word',values='Count').fillna(0)\n",
    "scaler = StandardScaler()"
   ]
  },
  {
   "cell_type": "markdown",
   "metadata": {},
   "source": [
    "Here, I pick an example movie to illustrate the recommender in action."
   ]
  },
  {
   "cell_type": "code",
   "execution_count": 10,
   "metadata": {},
   "outputs": [],
   "source": [
    "moviename = \"pride & prejudice\"\n",
    "moviename = moviename.lower()"
   ]
  },
  {
   "cell_type": "markdown",
   "metadata": {},
   "source": [
    "I separate the available movies into the target movie and the remaining movies minus the target movie."
   ]
  },
  {
   "cell_type": "code",
   "execution_count": 11,
   "metadata": {},
   "outputs": [
    {
     "name": "stdout",
     "output_type": "stream",
     "text": [
      "40629\n"
     ]
    }
   ],
   "source": [
    "movielens_movies = movielens_movies.set_index('movieId')\n",
    "\n",
    "movie_id = title_id.index[title_id['title'] == moviename.lower()].values[0]\n",
    "print(movie_id)\n",
    "\n",
    "train_movies = movielens_movies\n",
    "\n",
    "movie_value = train_movies[train_movies.index == movie_id]\n",
    "remaining_movies = train_movies[train_movies.index != movie_id]"
   ]
  },
  {
   "cell_type": "markdown",
   "metadata": {},
   "source": [
    "I now extract the movies that have a suitable age rating, and belong to the cluster, supercluster, and megacluster corresponding to the target movie. Reminder that these clusters take both genre and release date into consideration, and naturally that the supercluster contains multiple clusters, and the megacluster contains multiple superclusters. The algorithm will start with the cluster, and then select the supercluster if the cluster contains insufficient matching movies, etc."
   ]
  },
  {
   "cell_type": "code",
   "execution_count": 48,
   "metadata": {},
   "outputs": [
    {
     "name": "stdout",
     "output_type": "stream",
     "text": [
      "PG\n",
      "         Unnamed: 0     imdbId                   title age_rating  \\\n",
      "movieId                                                             \n",
      "3225           2483  tt0186975             Down to You      PG-13   \n",
      "3299           2536  tt0162983              Hanging Up      PG-13   \n",
      "3325           2552  tt0156841     The Next Best Thing      PG-13   \n",
      "3453           2648  tt0195778           Here on Earth      PG-13   \n",
      "3454           2649  tt0202402       Whatever It Takes      PG-13   \n",
      "...             ...        ...                     ...        ...   \n",
      "173205         9721  tt5536736  The Meyerowitz Stories    Unknown   \n",
      "173209         9722  tt4758646             War Machine    Unknown   \n",
      "174909         9731  tt5439796             Logan Lucky      PG-13   \n",
      "177237         9753  tt4622512     Battle of the Sexes      PG-13   \n",
      "184997         9804  tt5164432             Love, Simon      PG-13   \n",
      "\n",
      "         time_minutes                                     genres  imdb_score  \\\n",
      "movieId                                                                        \n",
      "3225               91             ['Comedy', 'Drama', 'Romance']         5.0   \n",
      "3299               94                        ['Comedy', 'Drama']         4.9   \n",
      "3325              108             ['Comedy', 'Drama', 'Romance']         4.7   \n",
      "3453               96                       ['Drama', 'Romance']         5.2   \n",
      "3454               94             ['Comedy', 'Drama', 'Romance']         5.5   \n",
      "...               ...                                        ...         ...   \n",
      "173205            112                        ['Comedy', 'Drama']         6.9   \n",
      "173209            122                 ['Comedy', 'Drama', 'War']         6.0   \n",
      "174909            118               ['Comedy', 'Crime', 'Drama']         7.0   \n",
      "177237            121  ['Biography', 'Comedy', 'Drama', 'Sport']         6.7   \n",
      "184997            110             ['Comedy', 'Drama', 'Romance']         7.6   \n",
      "\n",
      "        imdb_votes           director  \\\n",
      "movieId                                 \n",
      "3225        14,312      Kris Isacsson   \n",
      "3299        11,785       Diane Keaton   \n",
      "3325        10,717   John Schlesinger   \n",
      "3453         8,224     Mark Piznarski   \n",
      "3454         9,853        David Raynr   \n",
      "...            ...                ...   \n",
      "173205      41,772      Noah Baumbach   \n",
      "173209      41,364       David Michôd   \n",
      "174909     128,575  Steven Soderbergh   \n",
      "177237      49,640    Jonathan Dayton   \n",
      "184997      96,693      Greg Berlanti   \n",
      "\n",
      "                                                  actors  ... 2000s  1910s  \\\n",
      "movieId                                                   ...                \n",
      "3225      Freddie Prinze Jr., Julia Stiles, Selma Blair   ...     1      0   \n",
      "3299                Diane Keaton, Meg Ryan, Lisa Kudrow   ...     1      0   \n",
      "3325            Madonna, Rupert Everett, Benjamin Bratt   ...     1      0   \n",
      "3453        Chris Klein, Leelee Sobieski, Josh Hartnett   ...     1      0   \n",
      "3454       Shane West, Marla Sokoloff, Jodi Lyn O'Keefe   ...     1      0   \n",
      "...                                                  ...  ...   ...    ...   \n",
      "173205   Adam Sandler, Grace Van Patten, Dustin Hoffman   ...     0      0   \n",
      "173209             Brad Pitt, Daniel Betts, John Magaro   ...     0      0   \n",
      "174909        Channing Tatum, Adam Driver, Daniel Craig   ...     0      0   \n",
      "177237     Emma Stone, Steve Carell, Andrea Riseborough   ...     0      0   \n",
      "184997     Nick Robinson, Jennifer Garner, Josh Duhamel   ...     0      0   \n",
      "\n",
      "         2010s  decade_cluster  decade_supercluster  cluster  supercluster  \\\n",
      "movieId                                                                      \n",
      "3225         0               4                    1        8             4   \n",
      "3299         0               4                    1        8             4   \n",
      "3325         0               4                    1        8             4   \n",
      "3453         0               4                    1        8             4   \n",
      "3454         0               4                    1        8             4   \n",
      "...        ...             ...                  ...      ...           ...   \n",
      "173205       1               4                    1        8             4   \n",
      "173209       1               4                    1        8             4   \n",
      "174909       1               4                    1        8             4   \n",
      "177237       1               4                    1        8             4   \n",
      "184997       1               4                    1        8             4   \n",
      "\n",
      "         combined_cluster  combined_supercluster  combined_megacluster  \n",
      "movieId                                                                 \n",
      "3225                  8_4                    8_1                   4_1  \n",
      "3299                  8_4                    8_1                   4_1  \n",
      "3325                  8_4                    8_1                   4_1  \n",
      "3453                  8_4                    8_1                   4_1  \n",
      "3454                  8_4                    8_1                   4_1  \n",
      "...                   ...                    ...                   ...  \n",
      "173205                8_4                    8_1                   4_1  \n",
      "173209                8_4                    8_1                   4_1  \n",
      "174909                8_4                    8_1                   4_1  \n",
      "177237                8_4                    8_1                   4_1  \n",
      "184997                8_4                    8_1                   4_1  \n",
      "\n",
      "[533 rows x 102 columns]\n"
     ]
    }
   ],
   "source": [
    "rating = movie_value['age_rating'].replace(' ','').iloc[0]\n",
    "cluster = movie_value['combined_cluster'].iloc[0]\n",
    "supercluster = movie_value['combined_supercluster'].iloc[0]\n",
    "megacluster = movie_value['combined_megacluster'].iloc[0]\n",
    "\n",
    "print(rating)\n",
    "\n",
    "if rating == 'G':\n",
    "    remaining_movies = remaining_movies[(remaining_movies['age_rating'] == 'G') | (remaining_movies['age_rating'] == 'PG')]\n",
    "elif rating == 'PG':\n",
    "    remaining_movies = remaining_movies[(remaining_movies['age_rating'] == 'G') | (remaining_movies['age_rating'] == 'PG') | (remaining_movies['age_rating'] == 'Passed') | (remaining_movies['age_rating'] == 'PG-13') | (remaining_movies['age_rating'] == 'Unknown')]\n",
    "elif rating == 'PG-13':\n",
    "    remaining_movies = remaining_movies[(remaining_movies['age_rating'] == 'PG') | (remaining_movies['age_rating'] == 'PG-13') | (remaining_movies['age_rating'] == 'Unknown') | (remaining_movies['age_rating'] == 'Passed')]\n",
    "elif rating == 'R':\n",
    "    remaining_movies = remaining_movies[(remaining_movies['age_rating'] == 'R') | (remaining_movies['age_rating'] == 'Unknown') | (remaining_movies['age_rating'] == 'Passed')]\n",
    "elif rating == 'NC-17':\n",
    "    remaining_movies = remaining_movies[(remaining_movies['age_rating'] == 'R') | (remaining_movies['age_rating'] == 'NC-17')]\n",
    "\n",
    "movies_similar = remaining_movies[remaining_movies['combined_cluster'] == cluster]                              \n",
    "\n",
    "if len(movies_similar) < 30:\n",
    "    movies_similar = remaining_movies[remaining_movies['combined_supercluster'] == supercluster]\n",
    "if len(movies_similar) < 30:\n",
    "    movies_similar = remaining_movies[remaining_movies['combined_megacluster'] == megacluster]\n",
    "    \n",
    "print(movies_similar)"
   ]
  },
  {
   "cell_type": "markdown",
   "metadata": {},
   "source": [
    "After determining the final list of matching movies, I normalize the word scores for each movie, and use cosine similarity to determine the 'closest' movies in terms of their review content. From this, I select the 20 closest movies. I then choose from these the five movies with the highest imdb rating. In this way, I take into account both similarity to the original movie, and overall quality, both of which are valuable when making recommendations."
   ]
  },
  {
   "cell_type": "code",
   "execution_count": 49,
   "metadata": {},
   "outputs": [
    {
     "name": "stdout",
     "output_type": "stream",
     "text": [
      "movieId\n",
      "132961    0.431163\n",
      "74508     0.324404\n",
      "85438     0.323742\n",
      "5527      0.314689\n",
      "55451     0.294387\n",
      "6493      0.289023\n",
      "5380      0.283513\n",
      "53988     0.272103\n",
      "63853     0.269853\n",
      "50066     0.265588\n",
      "164909    0.258376\n",
      "51834     0.256470\n",
      "36535     0.256237\n",
      "93740     0.252310\n",
      "60758     0.251333\n",
      "104906    0.249101\n",
      "88163     0.248326\n",
      "50160     0.245366\n",
      "100487    0.244600\n",
      "51705     0.244177\n",
      "dtype: float64\n",
      "movieId\n",
      "164909                   La La Land\n",
      "74508                    Persuasion\n",
      "36535     Everything Is Illuminated\n",
      "88163          Crazy, Stupid, Love.\n",
      "85438                     Jane Eyre\n",
      "Name: title, dtype: object\n"
     ]
    }
   ],
   "source": [
    "final_movies = movies_similar\n",
    "#final_movies = remaining_movies\n",
    "\n",
    "movie_options = words_pivot[words_pivot.index.isin(final_movies.index)]\n",
    "\n",
    "movie_wanted = normalize(words_pivot[words_pivot.index == movie_id])\n",
    "\n",
    "movie_options_norm = normalize(movie_options)\n",
    "movie_options = pd.DataFrame(movie_options_norm,columns=movie_options.columns,index=movie_options.index)\n",
    "\n",
    "cos_sim = cosine_similarity(movie_options,movie_wanted)\n",
    "cos_sim = pd.Series(cos_sim.flatten(),index=movie_options.index)\n",
    "\n",
    "suggested_movies = cos_sim.nlargest(20)\n",
    "    \n",
    "\n",
    "print(suggested_movies)\n",
    "\n",
    "print(movielens_movies[movielens_movies.index.isin(suggested_movies.index)].nlargest(5,'imdb_score')['title'])"
   ]
  },
  {
   "cell_type": "markdown",
   "metadata": {},
   "source": [
    "The resulting movies appear to be strong matches, being both highly rated and having elements of romance. This is the genre clusters at work, which are necessary to ensure a baseline similarity between the movie input and the suggested movies. The similarity score between movie reviews looks for more specific movie information overlap, and incorporating imdb score into the selection process ensures that high quality movies will be recommended."
   ]
  },
  {
   "cell_type": "markdown",
   "metadata": {},
   "source": [
    "Now it's time to test the recommendations using the Movielens data."
   ]
  },
  {
   "cell_type": "code",
   "execution_count": 10,
   "metadata": {},
   "outputs": [
    {
     "name": "stdout",
     "output_type": "stream",
     "text": [
      "         Unnamed: 0     imdbId                          title age_rating  \\\n",
      "movieId                                                                    \n",
      "1                 0  tt0114709                      Toy Story          G   \n",
      "2                 1  tt0113497                        Jumanji         PG   \n",
      "3                 2  tt0113228               Grumpier Old Men      PG-13   \n",
      "4                 3  tt0114885              Waiting to Exhale          R   \n",
      "5                 4  tt0113041    Father of the Bride Part II         PG   \n",
      "...             ...        ...                            ...        ...   \n",
      "189041         9816  tt5052474    Sicario: Day of the Soldado          R   \n",
      "189203         9817  tt6499752                        Upgrade          R   \n",
      "189333         9818  tt4912910  Mission: Impossible - Fallout      PG-13   \n",
      "189363         9819  tt5164214                  Ocean's Eight      PG-13   \n",
      "189713         9820  tt7349662                 BlacKkKlansman          R   \n",
      "\n",
      "         time_minutes                                             genres  \\\n",
      "movieId                                                                    \n",
      "1                  81  ['Animation', 'Adventure', 'Comedy', 'Family',...   \n",
      "2                 104       ['Adventure', 'Comedy', 'Family', 'Fantasy']   \n",
      "3                 101                              ['Comedy', 'Romance']   \n",
      "4                 124                     ['Comedy', 'Drama', 'Romance']   \n",
      "5                 106                    ['Comedy', 'Family', 'Romance']   \n",
      "...               ...                                                ...   \n",
      "189041            122  ['Action', 'Adventure', 'Crime', 'Drama', 'Mys...   \n",
      "189203            100                   ['Action', 'Sci-Fi', 'Thriller']   \n",
      "189333            147                ['Action', 'Adventure', 'Thriller']   \n",
      "189363            110          ['Action', 'Comedy', 'Crime', 'Thriller']   \n",
      "189713            135          ['Biography', 'Comedy', 'Crime', 'Drama']   \n",
      "\n",
      "         imdb_score imdb_votes               director  \\\n",
      "movieId                                                 \n",
      "1               8.3    877,804          John Lasseter   \n",
      "2               7.0    304,542           Joe Johnston   \n",
      "3               6.7     24,039          Howard Deutch   \n",
      "4               5.9      9,470        Forest Whitaker   \n",
      "5               6.1     34,191          Charles Shyer   \n",
      "...             ...        ...                    ...   \n",
      "189041          7.1    123,248        Stefano Sollima   \n",
      "189203          7.5    155,728         Leigh Whannell   \n",
      "189333          7.7    287,308  Christopher McQuarrie   \n",
      "189363          6.9    182,666              Gary Ross   \n",
      "189713          7.5    217,558              Spike Lee   \n",
      "\n",
      "                                                    actors  ... 2000s  1910s  \\\n",
      "movieId                                                     ...                \n",
      "1                       Tom Hanks, Tim Allen, Don Rickles   ...     0      0   \n",
      "2              Robin Williams, Kirsten Dunst, Bonnie Hunt   ...     0      0   \n",
      "3                Walter Matthau, Jack Lemmon, Ann-Margret   ...     0      0   \n",
      "4         Whitney Houston, Angela Bassett, Loretta Devine   ...     0      0   \n",
      "5                Steve Martin, Diane Keaton, Martin Short   ...     0      0   \n",
      "...                                                    ...  ...   ...    ...   \n",
      "189041      Benicio Del Toro, Josh Brolin, Isabela Merced   ...     0      0   \n",
      "189203   Logan Marshall-Green, Melanie Vallejo, Steve D...  ...     0      0   \n",
      "189333              Tom Cruise, Henry Cavill, Ving Rhames   ...     0      0   \n",
      "189363      Sandra Bullock, Cate Blanchett, Anne Hathaway   ...     0      0   \n",
      "189713   John David Washington, Adam Driver, Laura Harr...  ...     0      0   \n",
      "\n",
      "         2010s  decade_cluster  decade_supercluster  cluster  supercluster  \\\n",
      "movieId                                                                      \n",
      "1            0               3                    0       17             8   \n",
      "2            0               3                    0       17             8   \n",
      "3            0               3                    0        8             4   \n",
      "4            0               3                    0        8             4   \n",
      "5            0               3                    0       17             8   \n",
      "...        ...             ...                  ...      ...           ...   \n",
      "189041       1               4                    1       19            10   \n",
      "189203       1               4                    1       22            11   \n",
      "189333       1               4                    1       19            10   \n",
      "189363       1               4                    1       23            12   \n",
      "189713       1               4                    1        8             4   \n",
      "\n",
      "         combined_cluster  combined_supercluster  combined_megacluster  \n",
      "movieId                                                                 \n",
      "1                    17_3                   17_0                   8_0  \n",
      "2                    17_3                   17_0                   8_0  \n",
      "3                     8_3                    8_0                   4_0  \n",
      "4                     8_3                    8_0                   4_0  \n",
      "5                    17_3                   17_0                   8_0  \n",
      "...                   ...                    ...                   ...  \n",
      "189041               19_4                   19_1                  10_1  \n",
      "189203               22_4                   22_1                  11_1  \n",
      "189333               19_4                   19_1                  10_1  \n",
      "189363               23_4                   23_1                  12_1  \n",
      "189713                8_4                    8_1                   4_1  \n",
      "\n",
      "[9821 rows x 102 columns]\n"
     ]
    }
   ],
   "source": [
    "print(movielens_movies)"
   ]
  },
  {
   "cell_type": "markdown",
   "metadata": {},
   "source": [
    "In addition to testing the full model, I will also test three other incomplete models for comparison.\n",
    "\n",
    "I will be using three different metrics to evaluate the models:\n",
    "\n",
    "The first is the average standardized score of the recommended movies. I will establish this score via testing the model on the users from the MovieLens dataset. First, I will standardize the scores the users give to each movie. Then, I will iterate through all the users, picking 10 randomly sampled movies for each user, and average the standardized score of the movies returned by the model. For the random model, the standardized score would feasibly be around zero, while a performant model would want as high a score as possible.\n",
    "\n",
    "The second will be coverage, which is simply how much of the entire movie catalog is within the recommendation space.\n",
    "\n",
    "The third will be personalization, which measures how different the recommendations are for each user on average.\n",
    "\n",
    "I will begin by constructing a matrix with the movie ids as both indices and columns. An index,column entry will be 1 if the column movie is recommended for the index movie, otherwise 0. This will allow me to calculate both coverage and personalization.\n",
    "\n",
    "I begin with the full model."
   ]
  },
  {
   "cell_type": "code",
   "execution_count": 6,
   "metadata": {},
   "outputs": [],
   "source": [
    "ratings_pivot = ratings.pivot(index='userId',columns='movieId',values='rating')\n",
    "trainusers = ratings_pivot\n",
    "\n",
    "unique_movies = set()\n",
    "totalcount = 0\n",
    "totalscore = 0\n",
    "\n",
    "personalization_matrix = pd.DataFrame(columns=movielens_movies.index,index=movielens_movies.index)"
   ]
  },
  {
   "cell_type": "code",
   "execution_count": null,
   "metadata": {},
   "outputs": [],
   "source": [
    "count = 0\n",
    "\n",
    "for movie_id in movielens_movies.index:\n",
    "    print(count)\n",
    "    print(movie_id)\n",
    "    train_movies = movielens_movies\n",
    "\n",
    "    movie_value = train_movies[train_movies.index == movie_id]\n",
    "    remaining_movies = train_movies[train_movies.index != movie_id]\n",
    "    \n",
    "    rating = movie_value['age_rating'].replace(' ','').iloc[0]\n",
    "    cluster = movie_value['combined_cluster'].iloc[0]\n",
    "    supercluster = movie_value['combined_supercluster'].iloc[0]\n",
    "    megacluster = movie_value['combined_megacluster'].iloc[0]\n",
    "\n",
    "    #print(rating)\n",
    "\n",
    "    if rating == 'G':\n",
    "        remaining_movies = remaining_movies[(remaining_movies['age_rating'] == 'G') | (remaining_movies['age_rating'] == 'PG')]\n",
    "    elif rating == 'PG':\n",
    "        remaining_movies = remaining_movies[(remaining_movies['age_rating'] == 'G') | (remaining_movies['age_rating'] == 'PG') | (remaining_movies['age_rating'] == 'Passed') | (remaining_movies['age_rating'] == 'PG-13') | (remaining_movies['age_rating'] == 'Unknown')]\n",
    "    elif rating == 'PG-13':\n",
    "        remaining_movies = remaining_movies[(remaining_movies['age_rating'] == 'PG') | (remaining_movies['age_rating'] == 'PG-13') | (remaining_movies['age_rating'] == 'Unknown') | (remaining_movies['age_rating'] == 'Passed')]\n",
    "    elif rating == 'R':\n",
    "        remaining_movies = remaining_movies[(remaining_movies['age_rating'] == 'R') | (remaining_movies['age_rating'] == 'Unknown') | (remaining_movies['age_rating'] == 'Passed')]\n",
    "    elif rating == 'NC-17':\n",
    "        remaining_movies = remaining_movies[(remaining_movies['age_rating'] == 'R') | (remaining_movies['age_rating'] == 'NC-17')]\n",
    "\n",
    "    movies_similar = remaining_movies[remaining_movies['combined_cluster'] == cluster]                              \n",
    "\n",
    "    if len(movies_similar) < 30:\n",
    "        movies_similar = remaining_movies[remaining_movies['combined_supercluster'] == supercluster]\n",
    "    if len(movies_similar) < 30:\n",
    "        movies_similar = remaining_movies[remaining_movies['combined_megacluster'] == megacluster]\n",
    "    if len(movies_similar) < 20:\n",
    "        movies_similar = remaining_movies\n",
    "    #print(movies_similar)\n",
    "    \n",
    "    final_movies = movies_similar\n",
    "\n",
    "    movie_options = words_pivot[words_pivot.index.isin(final_movies.index)]\n",
    "\n",
    "    movie_wanted = normalize(words_pivot[words_pivot.index == movie_id])\n",
    "\n",
    "    movie_options_norm = normalize(movie_options)\n",
    "    movie_options = pd.DataFrame(movie_options_norm,columns=movie_options.columns,index=movie_options.index)\n",
    "\n",
    "    cos_sim = cosine_similarity(movie_options,movie_wanted)\n",
    "    cos_sim = pd.Series(cos_sim.flatten(),index=movie_options.index)\n",
    "\n",
    "    suggested_movies = cos_sim.nlargest(20)\n",
    "    \n",
    "\n",
    "    #print(suggested_movies)\n",
    "    \n",
    "    for movie in movielens_movies[movielens_movies.index.isin(suggested_movies.index)].nlargest(5,'imdb_score').index:\n",
    "        personalization_matrix.loc[movie_id,movie] = 1\n",
    "\n",
    "    #print(movielens_movies[movielens_movies.index.isin(suggested_movies.index)].nlargest(5,'imdb_score')['title'])\n",
    "    count += 1"
   ]
  },
  {
   "cell_type": "code",
   "execution_count": 22,
   "metadata": {},
   "outputs": [],
   "source": [
    "personalization_matrix.to_csv('personalization.csv')"
   ]
  },
  {
   "cell_type": "code",
   "execution_count": 24,
   "metadata": {},
   "outputs": [],
   "source": [
    "personalization_matrix = personalization_matrix.fillna(0)"
   ]
  },
  {
   "cell_type": "code",
   "execution_count": 25,
   "metadata": {},
   "outputs": [],
   "source": [
    "personalization_similarity = cosine_similarity(personalization_matrix)"
   ]
  },
  {
   "cell_type": "code",
   "execution_count": 27,
   "metadata": {},
   "outputs": [
    {
     "name": "stdout",
     "output_type": "stream",
     "text": [
      "[1.  0.2 0.  ... 0.  0.  0. ]\n"
     ]
    }
   ],
   "source": [
    "print(personalization_similarity[0])"
   ]
  },
  {
   "cell_type": "markdown",
   "metadata": {},
   "source": [
    "Here, I calculate the personalization for the full model. It's 0.997, indicating that the results are extremely personalized, there is very little consistent overlap between recommendations."
   ]
  },
  {
   "cell_type": "code",
   "execution_count": 29,
   "metadata": {},
   "outputs": [
    {
     "name": "stdout",
     "output_type": "stream",
     "text": [
      "0.9971966012395815\n"
     ]
    }
   ],
   "source": [
    "upper_right = np.triu_indices(personalization_similarity.shape[0], k=1)\n",
    "\n",
    "\n",
    "personalization = np.mean(personalization_similarity[upper_right])\n",
    "print(1-personalization)"
   ]
  },
  {
   "cell_type": "markdown",
   "metadata": {},
   "source": [
    "Next, I calculate the personalization matrix for a model which doesn't filter using the review keywords, and just picks the top 5 movies from their respective genre cluster."
   ]
  },
  {
   "cell_type": "code",
   "execution_count": 30,
   "metadata": {},
   "outputs": [],
   "source": [
    "unique_movies = set()\n",
    "totalcount = 0\n",
    "totalscore = 0\n",
    "\n",
    "personalization_matrix_no_words = pd.DataFrame(columns=movielens_movies.index,index=movielens_movies.index)"
   ]
  },
  {
   "cell_type": "code",
   "execution_count": null,
   "metadata": {},
   "outputs": [],
   "source": [
    "count = 0\n",
    "\n",
    "for movie_id in movielens_movies.index:\n",
    "    print(count)\n",
    "    print(movie_id)\n",
    "    train_movies = movielens_movies\n",
    "\n",
    "    movie_value = train_movies[train_movies.index == movie_id]\n",
    "    remaining_movies = train_movies[train_movies.index != movie_id]\n",
    "    \n",
    "    rating = movie_value['age_rating'].replace(' ','').iloc[0]\n",
    "    cluster = movie_value['combined_cluster'].iloc[0]\n",
    "    supercluster = movie_value['combined_supercluster'].iloc[0]\n",
    "    megacluster = movie_value['combined_megacluster'].iloc[0]\n",
    "\n",
    "    #print(rating)\n",
    "\n",
    "    if rating == 'G':\n",
    "        remaining_movies = remaining_movies[(remaining_movies['age_rating'] == 'G') | (remaining_movies['age_rating'] == 'PG')]\n",
    "    elif rating == 'PG':\n",
    "        remaining_movies = remaining_movies[(remaining_movies['age_rating'] == 'G') | (remaining_movies['age_rating'] == 'PG') | (remaining_movies['age_rating'] == 'Passed') | (remaining_movies['age_rating'] == 'PG-13') | (remaining_movies['age_rating'] == 'Unknown')]\n",
    "    elif rating == 'PG-13':\n",
    "        remaining_movies = remaining_movies[(remaining_movies['age_rating'] == 'PG') | (remaining_movies['age_rating'] == 'PG-13') | (remaining_movies['age_rating'] == 'Unknown') | (remaining_movies['age_rating'] == 'Passed')]\n",
    "    elif rating == 'R':\n",
    "        remaining_movies = remaining_movies[(remaining_movies['age_rating'] == 'R') | (remaining_movies['age_rating'] == 'Unknown') | (remaining_movies['age_rating'] == 'Passed')]\n",
    "    elif rating == 'NC-17':\n",
    "        remaining_movies = remaining_movies[(remaining_movies['age_rating'] == 'R') | (remaining_movies['age_rating'] == 'NC-17')]\n",
    "\n",
    "    movies_similar = remaining_movies[remaining_movies['combined_cluster'] == cluster]                              \n",
    "\n",
    "    if len(movies_similar) < 30:\n",
    "        movies_similar = remaining_movies[remaining_movies['combined_supercluster'] == supercluster]\n",
    "    if len(movies_similar) < 30:\n",
    "        movies_similar = remaining_movies[remaining_movies['combined_megacluster'] == megacluster]\n",
    "    if len(movies_similar) < 20:\n",
    "        movies_similar = remaining_movies\n",
    "    #print(movies_similar)\n",
    "    \n",
    "    final_movies = movies_similar\n",
    "\n",
    "    movie_options = words_pivot[words_pivot.index.isin(final_movies.index)]\n",
    "\n",
    "    movie_wanted = normalize(words_pivot[words_pivot.index == movie_id])\n",
    "\n",
    "    movie_options_norm = normalize(movie_options)\n",
    "    movie_options = pd.DataFrame(movie_options_norm,columns=movie_options.columns,index=movie_options.index)\n",
    "\n",
    "    #cos_sim = cosine_similarity(movie_options,movie_wanted)\n",
    "    #cos_sim = pd.Series(cos_sim.flatten(),index=movie_options.index)\n",
    "\n",
    "    suggested_movies = movie_options\n",
    "    \n",
    "\n",
    "    #print(suggested_movies)\n",
    "    \n",
    "    for movie in movielens_movies[movielens_movies.index.isin(suggested_movies.index)].nlargest(5,'imdb_score').index:\n",
    "        personalization_matrix_no_words.loc[movie_id,movie] = 1\n",
    "\n",
    "    #print(movielens_movies[movielens_movies.index.isin(suggested_movies.index)].nlargest(5,'imdb_score')['title'])\n",
    "    count += 1"
   ]
  },
  {
   "cell_type": "code",
   "execution_count": 32,
   "metadata": {},
   "outputs": [],
   "source": [
    "personalization_matrix_no_words = personalization_matrix_no_words.fillna(0)"
   ]
  },
  {
   "cell_type": "code",
   "execution_count": 35,
   "metadata": {},
   "outputs": [],
   "source": [
    "personalization_matrix_no_words.to_csv('personalization_matrix_no_words.csv')"
   ]
  },
  {
   "cell_type": "code",
   "execution_count": 33,
   "metadata": {},
   "outputs": [],
   "source": [
    "personalization_similarity_no_words = cosine_similarity(personalization_matrix_no_words)"
   ]
  },
  {
   "cell_type": "code",
   "execution_count": 38,
   "metadata": {},
   "outputs": [],
   "source": [
    "column_sums = personalization_matrix.sum(axis=0)"
   ]
  },
  {
   "cell_type": "code",
   "execution_count": 40,
   "metadata": {},
   "outputs": [],
   "source": [
    "column_sums_count = column_sums[column_sums > 0].count()"
   ]
  },
  {
   "cell_type": "markdown",
   "metadata": {},
   "source": [
    "Here is the coverage score for the full model. I apologize for these cells being somewhat out of order.\n",
    "\n",
    "This means that the full model covers over 40% of the catalog."
   ]
  },
  {
   "cell_type": "code",
   "execution_count": 42,
   "metadata": {},
   "outputs": [
    {
     "data": {
      "text/plain": [
       "0.41329803482333777"
      ]
     },
     "execution_count": 42,
     "metadata": {},
     "output_type": "execute_result"
    }
   ],
   "source": [
    "column_sums_count/len(column_sums)"
   ]
  },
  {
   "cell_type": "code",
   "execution_count": 43,
   "metadata": {},
   "outputs": [],
   "source": [
    "column_sums_no_words = personalization_matrix_no_words.sum(axis=0)"
   ]
  },
  {
   "cell_type": "code",
   "execution_count": 44,
   "metadata": {},
   "outputs": [],
   "source": [
    "column_sums_no_words_count = column_sums_no_words[column_sums_no_words > 0].count()"
   ]
  },
  {
   "cell_type": "markdown",
   "metadata": {},
   "source": [
    "Conversely, the model which chooses the top 5 movies from the genre cluster only covers less than 5% of the catalog, a very significant decrease.\n",
    "\n",
    "Coverage is important because a movie streaming service is going to want to maximize the period that their customers remain interested, and thus take advantage of as many movies in their catalog as they can."
   ]
  },
  {
   "cell_type": "code",
   "execution_count": 45,
   "metadata": {},
   "outputs": [
    {
     "data": {
      "text/plain": [
       "0.048365746868954285"
      ]
     },
     "execution_count": 45,
     "metadata": {},
     "output_type": "execute_result"
    }
   ],
   "source": [
    "column_sums_no_words_count/len(column_sums_no_words)"
   ]
  },
  {
   "cell_type": "markdown",
   "metadata": {},
   "source": [
    "The personalization score for the model without keyword filtering is also high, though lower than for the full model. Given how many movies are being compared, this decrease is actually more significant than it looks via the score."
   ]
  },
  {
   "cell_type": "code",
   "execution_count": 34,
   "metadata": {},
   "outputs": [
    {
     "name": "stdout",
     "output_type": "stream",
     "text": [
      "0.9710645980567432\n"
     ]
    }
   ],
   "source": [
    "upper_right = np.triu_indices(personalization_similarity_no_words.shape[0], k=1)\n",
    "\n",
    "\n",
    "personalization = np.mean(personalization_similarity_no_words[upper_right])\n",
    "print(1-personalization)"
   ]
  },
  {
   "cell_type": "markdown",
   "metadata": {},
   "source": [
    "Now I test a model without word filtering or genre information, that just takes the top 5 after partitioning the movies by age rating (which is always necessary)."
   ]
  },
  {
   "cell_type": "code",
   "execution_count": 56,
   "metadata": {},
   "outputs": [],
   "source": [
    "unique_movies = set()\n",
    "totalcount = 0\n",
    "totalscore = 0\n",
    "\n",
    "personalization_matrix_top_5 = pd.DataFrame(columns=movielens_movies.index,index=movielens_movies.index)"
   ]
  },
  {
   "cell_type": "code",
   "execution_count": null,
   "metadata": {},
   "outputs": [],
   "source": [
    "count = 0\n",
    "\n",
    "for movie_id in movielens_movies.index:\n",
    "    print(count)\n",
    "    print(movie_id)\n",
    "    train_movies = movielens_movies\n",
    "\n",
    "    movie_value = train_movies[train_movies.index == movie_id]\n",
    "    remaining_movies = train_movies[train_movies.index != movie_id]\n",
    "    \n",
    "    rating = movie_value['age_rating'].replace(' ','').iloc[0]\n",
    "    cluster = movie_value['combined_cluster'].iloc[0]\n",
    "    supercluster = movie_value['combined_supercluster'].iloc[0]\n",
    "    megacluster = movie_value['combined_megacluster'].iloc[0]\n",
    "\n",
    "    #print(rating)\n",
    "\n",
    "    if rating == 'G':\n",
    "        remaining_movies = remaining_movies[(remaining_movies['age_rating'] == 'G') | (remaining_movies['age_rating'] == 'PG')]\n",
    "    elif rating == 'PG':\n",
    "        remaining_movies = remaining_movies[(remaining_movies['age_rating'] == 'G') | (remaining_movies['age_rating'] == 'PG') | (remaining_movies['age_rating'] == 'Passed') | (remaining_movies['age_rating'] == 'PG-13') | (remaining_movies['age_rating'] == 'Unknown')]\n",
    "    elif rating == 'PG-13':\n",
    "        remaining_movies = remaining_movies[(remaining_movies['age_rating'] == 'PG') | (remaining_movies['age_rating'] == 'PG-13') | (remaining_movies['age_rating'] == 'Unknown') | (remaining_movies['age_rating'] == 'Passed')]\n",
    "    elif rating == 'R':\n",
    "        remaining_movies = remaining_movies[(remaining_movies['age_rating'] == 'R') | (remaining_movies['age_rating'] == 'Unknown') | (remaining_movies['age_rating'] == 'Passed')]\n",
    "    elif rating == 'NC-17':\n",
    "        remaining_movies = remaining_movies[(remaining_movies['age_rating'] == 'R') | (remaining_movies['age_rating'] == 'NC-17')]\n",
    "\n",
    "    movies_similar = remaining_movies[remaining_movies['combined_cluster'] == cluster]                              \n",
    "\n",
    "    if len(movies_similar) < 30:\n",
    "        movies_similar = remaining_movies[remaining_movies['combined_supercluster'] == supercluster]\n",
    "    if len(movies_similar) < 30:\n",
    "        movies_similar = remaining_movies[remaining_movies['combined_megacluster'] == megacluster]\n",
    "    if len(movies_similar) < 20:\n",
    "        movies_similar = remaining_movies\n",
    "    #print(movies_similar)\n",
    "    \n",
    "    final_movies = remaining_movies\n",
    "\n",
    "    movie_options = words_pivot[words_pivot.index.isin(final_movies.index)]\n",
    "\n",
    "    movie_wanted = normalize(words_pivot[words_pivot.index == movie_id])\n",
    "\n",
    "    movie_options_norm = normalize(movie_options)\n",
    "    movie_options = pd.DataFrame(movie_options_norm,columns=movie_options.columns,index=movie_options.index)\n",
    "\n",
    "    #cos_sim = cosine_similarity(movie_options,movie_wanted)\n",
    "    #cos_sim = pd.Series(cos_sim.flatten(),index=movie_options.index)\n",
    "\n",
    "    suggested_movies = movie_options\n",
    "    \n",
    "\n",
    "    #print(suggested_movies)\n",
    "    \n",
    "    for movie in movielens_movies[movielens_movies.index.isin(suggested_movies.index)].nlargest(5,'imdb_score').index:\n",
    "        personalization_matrix_top_5.loc[movie_id,movie] = 1\n",
    "\n",
    "    #print(movielens_movies[movielens_movies.index.isin(suggested_movies.index)].nlargest(5,'imdb_score')['title'])\n",
    "    count += 1"
   ]
  },
  {
   "cell_type": "code",
   "execution_count": 58,
   "metadata": {},
   "outputs": [],
   "source": [
    "personalization_matrix_top_5 = personalization_matrix_top_5.fillna(0)"
   ]
  },
  {
   "cell_type": "code",
   "execution_count": 59,
   "metadata": {},
   "outputs": [],
   "source": [
    "personalization_matrix_top_5.to_csv('personalization_matrix_top_5.csv')"
   ]
  },
  {
   "cell_type": "code",
   "execution_count": 60,
   "metadata": {},
   "outputs": [],
   "source": [
    "personalization_similarity_top_5 = cosine_similarity(personalization_matrix_top_5)"
   ]
  },
  {
   "cell_type": "code",
   "execution_count": 61,
   "metadata": {},
   "outputs": [],
   "source": [
    "column_sums_top_5 = personalization_matrix_top_5.sum(axis=0)"
   ]
  },
  {
   "cell_type": "code",
   "execution_count": 62,
   "metadata": {},
   "outputs": [],
   "source": [
    "column_sums_top_5_count = column_sums_top_5[column_sums_top_5 > 0].count()"
   ]
  },
  {
   "cell_type": "markdown",
   "metadata": {},
   "source": [
    "As expected, the coverage is extremely low, less than 0.2% of the total catalog."
   ]
  },
  {
   "cell_type": "code",
   "execution_count": 63,
   "metadata": {},
   "outputs": [
    {
     "data": {
      "text/plain": [
       "0.0016291619997963547"
      ]
     },
     "execution_count": 63,
     "metadata": {},
     "output_type": "execute_result"
    }
   ],
   "source": [
    "column_sums_top_5_count/len(column_sums_top_5)"
   ]
  },
  {
   "cell_type": "markdown",
   "metadata": {},
   "source": [
    "The personalization is also much lower than the other models, which means many movies are resulting in the same recommendations being generated."
   ]
  },
  {
   "cell_type": "code",
   "execution_count": 64,
   "metadata": {},
   "outputs": [
    {
     "name": "stdout",
     "output_type": "stream",
     "text": [
      "0.41701563900126026\n"
     ]
    }
   ],
   "source": [
    "upper_right = np.triu_indices(personalization_similarity_top_5.shape[0], k=1)\n",
    "\n",
    "\n",
    "personalization = np.mean(personalization_similarity_top_5[upper_right])\n",
    "print(1-personalization)"
   ]
  },
  {
   "cell_type": "markdown",
   "metadata": {},
   "source": [
    "Finally, I test a random model, which separates the movies into genre clusters, then chooses 5 movies from the suitable cluster at random.\n",
    "\n",
    "I'm including this model to show the degree to which filtering improves the model's performance."
   ]
  },
  {
   "cell_type": "code",
   "execution_count": 7,
   "metadata": {},
   "outputs": [],
   "source": [
    "unique_movies = set()\n",
    "totalcount = 0\n",
    "totalscore = 0\n",
    "\n",
    "personalization_matrix_random = pd.DataFrame(columns=movielens_movies.index,index=movielens_movies.index)"
   ]
  },
  {
   "cell_type": "code",
   "execution_count": null,
   "metadata": {},
   "outputs": [],
   "source": [
    "count = 0\n",
    "\n",
    "for movie_id in movielens_movies.index:\n",
    "    print(count)\n",
    "    print(movie_id)\n",
    "    train_movies = movielens_movies\n",
    "\n",
    "    movie_value = train_movies[train_movies.index == movie_id]\n",
    "    remaining_movies = train_movies[train_movies.index != movie_id]\n",
    "    \n",
    "    rating = movie_value['age_rating'].replace(' ','').iloc[0]\n",
    "    cluster = movie_value['combined_cluster'].iloc[0]\n",
    "    supercluster = movie_value['combined_supercluster'].iloc[0]\n",
    "    megacluster = movie_value['combined_megacluster'].iloc[0]\n",
    "\n",
    "    #print(rating)\n",
    "\n",
    "    if rating == 'G':\n",
    "        remaining_movies = remaining_movies[(remaining_movies['age_rating'] == 'G') | (remaining_movies['age_rating'] == 'PG')]\n",
    "    elif rating == 'PG':\n",
    "        remaining_movies = remaining_movies[(remaining_movies['age_rating'] == 'G') | (remaining_movies['age_rating'] == 'PG') | (remaining_movies['age_rating'] == 'Passed') | (remaining_movies['age_rating'] == 'PG-13') | (remaining_movies['age_rating'] == 'Unknown')]\n",
    "    elif rating == 'PG-13':\n",
    "        remaining_movies = remaining_movies[(remaining_movies['age_rating'] == 'PG') | (remaining_movies['age_rating'] == 'PG-13') | (remaining_movies['age_rating'] == 'Unknown') | (remaining_movies['age_rating'] == 'Passed')]\n",
    "    elif rating == 'R':\n",
    "        remaining_movies = remaining_movies[(remaining_movies['age_rating'] == 'R') | (remaining_movies['age_rating'] == 'Unknown') | (remaining_movies['age_rating'] == 'Passed')]\n",
    "    elif rating == 'NC-17':\n",
    "        remaining_movies = remaining_movies[(remaining_movies['age_rating'] == 'R') | (remaining_movies['age_rating'] == 'NC-17')]\n",
    "\n",
    "    movies_similar = remaining_movies[remaining_movies['combined_cluster'] == cluster]                              \n",
    "\n",
    "    if len(movies_similar) < 30:\n",
    "        movies_similar = remaining_movies[remaining_movies['combined_supercluster'] == supercluster]\n",
    "    if len(movies_similar) < 30:\n",
    "        movies_similar = remaining_movies[remaining_movies['combined_megacluster'] == megacluster]\n",
    "    if len(movies_similar) < 20:\n",
    "        movies_similar = remaining_movies\n",
    "    #print(movies_similar)\n",
    "    \n",
    "    final_movies = movies_similar\n",
    "\n",
    "    movie_options = words_pivot[words_pivot.index.isin(final_movies.index)]\n",
    "\n",
    "    movie_wanted = normalize(words_pivot[words_pivot.index == movie_id])\n",
    "\n",
    "    movie_options_norm = normalize(movie_options)\n",
    "    movie_options = pd.DataFrame(movie_options_norm,columns=movie_options.columns,index=movie_options.index)\n",
    "\n",
    "    #cos_sim = cosine_similarity(movie_options,movie_wanted)\n",
    "    #cos_sim = pd.Series(cos_sim.flatten(),index=movie_options.index)\n",
    "\n",
    "    suggested_movies = movie_options\n",
    "    \n",
    "\n",
    "    #print(suggested_movies)\n",
    "    \n",
    "    for movie in movielens_movies[movielens_movies.index.isin(suggested_movies.index)].sample(5).index:\n",
    "        personalization_matrix_random.loc[movie_id,movie] = 1\n",
    "\n",
    "    #print(movielens_movies[movielens_movies.index.isin(suggested_movies.index)].nlargest(5,'imdb_score')['title'])\n",
    "    count += 1"
   ]
  },
  {
   "cell_type": "code",
   "execution_count": 9,
   "metadata": {},
   "outputs": [],
   "source": [
    "personalization_matrix_random = personalization_matrix_random.fillna(0)"
   ]
  },
  {
   "cell_type": "code",
   "execution_count": 10,
   "metadata": {},
   "outputs": [],
   "source": [
    "personalization_matrix_random.to_csv('personalization_matrix_random.csv')"
   ]
  },
  {
   "cell_type": "code",
   "execution_count": 11,
   "metadata": {},
   "outputs": [],
   "source": [
    "personalization_similarity_random = cosine_similarity(personalization_matrix_random)"
   ]
  },
  {
   "cell_type": "code",
   "execution_count": 12,
   "metadata": {},
   "outputs": [],
   "source": [
    "column_sums_random = personalization_matrix_random.sum(axis=0)\n",
    "column_sums_random_count = column_sums_random[column_sums_random > 0].count()"
   ]
  },
  {
   "cell_type": "markdown",
   "metadata": {},
   "source": [
    "As expected, the random model's personalization and coverage are both very high, because there are no constraints on which movies are selected. However, the average score, calculated in the next section, should be a lot lower than the other models, close to zero (since scores have been standardized)."
   ]
  },
  {
   "cell_type": "code",
   "execution_count": 13,
   "metadata": {},
   "outputs": [
    {
     "data": {
      "text/plain": [
       "0.9697586803787802"
      ]
     },
     "execution_count": 13,
     "metadata": {},
     "output_type": "execute_result"
    }
   ],
   "source": [
    "column_sums_random_count/len(column_sums_random)"
   ]
  },
  {
   "cell_type": "code",
   "execution_count": 14,
   "metadata": {},
   "outputs": [
    {
     "name": "stdout",
     "output_type": "stream",
     "text": [
      "0.9994576815009029\n"
     ]
    }
   ],
   "source": [
    "upper_right = np.triu_indices(personalization_similarity_random.shape[0], k=1)\n",
    "\n",
    "\n",
    "personalization = np.mean(personalization_similarity_random[upper_right])\n",
    "print(1-personalization)"
   ]
  },
  {
   "cell_type": "markdown",
   "metadata": {},
   "source": [
    "Now, I use the MovieLens data to calculate the average scores of the recommended movies for each user.\n",
    "\n",
    "This code takes quite a while to execute."
   ]
  },
  {
   "cell_type": "code",
   "execution_count": 11,
   "metadata": {},
   "outputs": [],
   "source": [
    "ratings_pivot = ratings.pivot(index='userId',columns='movieId',values='rating')"
   ]
  },
  {
   "cell_type": "code",
   "execution_count": null,
   "metadata": {},
   "outputs": [],
   "source": [
    "trainusers = ratings_pivot\n",
    "\n",
    "unique_movies = set()\n",
    "totalcount = 0\n",
    "totalscore = 0\n",
    "\n",
    "for i in range(len(trainusers)):\n",
    "    moviecount = 0\n",
    "    user = trainusers.iloc[i,:].dropna()\n",
    "    user_scaled = scaler.fit_transform(user.values.reshape(-1,1))\n",
    "    #print(user_scaled)\n",
    "    user_scaled = pd.Series((s[0] for s in user_scaled),index=user.index)\n",
    "    user_scaled = user_scaled.sample(frac=1)\n",
    "    train_movies = movielens_movies\n",
    "    train_movies = train_movies[train_movies.index.isin(user_scaled.index)]\n",
    "    for movie in user_scaled.index:\n",
    "        # print(movie)\n",
    "        # print(moviecount)\n",
    "        if moviecount >= 10:\n",
    "            break\n",
    "        if movie not in train_movies.index:\n",
    "            continue\n",
    "        if movie not in words_pivot.index:\n",
    "            continue\n",
    "        #print(movie)\n",
    "        movie_value = train_movies[train_movies.index == movie]\n",
    "        remaining_movies = train_movies[train_movies.index != movie]\n",
    "        #print(len(remaining_movies))\n",
    "        cluster = movie_value['combined_cluster'].iloc[0]\n",
    "        supercluster = movie_value['combined_supercluster'].iloc[0]\n",
    "        megacluster = movie_value['combined_megacluster'].iloc[0]\n",
    "\n",
    "        rating = movie_value['age_rating'].iloc[0]\n",
    "\n",
    "        if rating == 'G':\n",
    "            remaining_movies = remaining_movies[(remaining_movies['age_rating'] == 'G') | (remaining_movies['age_rating'] == 'PG')]\n",
    "        elif rating == 'PG':\n",
    "            remaining_movies = remaining_movies[(remaining_movies['age_rating'] == 'G') | (remaining_movies['age_rating'] == 'PG') | (remaining_movies['age_rating'] == 'Passed') | (remaining_movies['age_rating'] == 'PG-13') | (remaining_movies['age_rating'] == 'Unknown')]\n",
    "        elif rating == 'PG-13':\n",
    "            remaining_movies = remaining_movies[(remaining_movies['age_rating'] == 'R') | (remaining_movies['age_rating'] == 'PG') | (remaining_movies['age_rating'] == 'PG-13') | (remaining_movies['age_rating'] == 'Unknown') | (remaining_movies['age_rating'] == 'Passed')]\n",
    "        elif rating == 'R':\n",
    "            remaining_movies = remaining_movies[(remaining_movies['age_rating'] == 'R') | (remaining_movies['age_rating'] == 'Unknown') | (remaining_movies['age_rating'] == 'Passed')]\n",
    "        elif rating == 'NC-17':\n",
    "            remaining_movies = remaining_movies[(remaining_movies['age_rating'] == 'R') | (remaining_movies['age_rating'] == 'NC-17')]\n",
    "        else:\n",
    "            remaining_movies = remaining_movies[(remaining_movies['age_rating'] == 'PG-13') | (remaining_movies['age_rating'] == 'Unknown') | (remaining_movies['age_rating'] == 'Passed')]\n",
    "        \n",
    "        movies_similar = remaining_movies[remaining_movies['combined_cluster'] == cluster]   \n",
    "                           \n",
    "        if len(movies_similar) < 30:\n",
    "            movies_similar = remaining_movies[remaining_movies['combined_supercluster'] == supercluster]\n",
    "        if len(movies_similar) < 30:\n",
    "            movies_similar = remaining_movies[remaining_movies['combined_megacluster'] == supercluster]\n",
    "            \n",
    "        #print(cluster)\n",
    "        if len(movies_similar) < 20:\n",
    "            movies_similar = remaining_movies\n",
    "        #print(len(movies_similar))\n",
    "\n",
    "        final_movies = movies_similar\n",
    "\n",
    "        movie_options = words_pivot[words_pivot.index.isin(final_movies.index)]\n",
    "        \n",
    "        movie_wanted = normalize(words_pivot[words_pivot.index == movie])\n",
    "        \n",
    "        movie_options_norm = normalize(movie_options)\n",
    "        movie_options = pd.DataFrame(movie_options_norm,columns=movie_options.columns,index=movie_options.index)\n",
    "        \n",
    "        cos_sim = cosine_similarity(movie_options,movie_wanted)\n",
    "        cos_sim = pd.Series(cos_sim.flatten(),index=movie_options.index)\n",
    "        \n",
    "        suggested_movies = cos_sim.nlargest(20)\n",
    "            \n",
    "        \n",
    "        #print(suggested_movies)\n",
    "        \n",
    "        selected = movielens_movies[movielens_movies.index.isin(suggested_movies.index)].nlargest(5,'imdb_score').index\n",
    "        #selected = movielens_movies[movielens_movies.index.isin(movie_options.index)].nlargest(5,'imdb_score').index\n",
    "        score = 0\n",
    "        for val in selected:\n",
    "            unique_movies.add(val)\n",
    "            score = score + user_scaled[val]\n",
    "            #print(user_scaled[val])\n",
    "        score = score/5\n",
    "        totalscore = totalscore + score\n",
    "        \n",
    "        moviecount += 1\n",
    "        totalcount += 1\n",
    "        \n",
    "    print(totalcount)\n",
    "    print(totalscore)\n",
    "    print(len(unique_movies))"
   ]
  },
  {
   "cell_type": "markdown",
   "metadata": {},
   "source": [
    "The average score for the full model is approximately 0.5, which means the average recommended movie scores 0.5 standard deviations above the user's mean rating."
   ]
  },
  {
   "cell_type": "code",
   "execution_count": 13,
   "metadata": {},
   "outputs": [
    {
     "data": {
      "text/plain": [
       "0.4991206455817037"
      ]
     },
     "execution_count": 13,
     "metadata": {},
     "output_type": "execute_result"
    }
   ],
   "source": [
    "totalscore/totalcount"
   ]
  },
  {
   "cell_type": "markdown",
   "metadata": {},
   "source": [
    "Now, I test the model which ignores the keyword filtering and just takes the top 5 from each genre cluster."
   ]
  },
  {
   "cell_type": "code",
   "execution_count": null,
   "metadata": {},
   "outputs": [],
   "source": [
    "trainusers = ratings_pivot\n",
    "\n",
    "unique_movies = set()\n",
    "totalcount = 0\n",
    "totalscore = 0\n",
    "\n",
    "for i in range(len(trainusers)):\n",
    "    moviecount = 0\n",
    "    user = trainusers.iloc[i,:].dropna()\n",
    "    user_scaled = scaler.fit_transform(user.values.reshape(-1,1))\n",
    "    #print(user_scaled)\n",
    "    user_scaled = pd.Series((s[0] for s in user_scaled),index=user.index)\n",
    "    user_scaled = user_scaled.sample(frac=1)\n",
    "    train_movies = movielens_movies\n",
    "    train_movies = train_movies[train_movies.index.isin(user_scaled.index)]\n",
    "    for movie in user_scaled.index:\n",
    "        # print(movie)\n",
    "        # print(moviecount)\n",
    "        if moviecount >= 10:\n",
    "            break\n",
    "        if movie not in train_movies.index:\n",
    "            continue\n",
    "        if movie not in words_pivot.index:\n",
    "            continue\n",
    "        #print(movie)\n",
    "        movie_value = train_movies[train_movies.index == movie]\n",
    "        remaining_movies = train_movies[train_movies.index != movie]\n",
    "        #print(len(remaining_movies))\n",
    "        cluster = movie_value['combined_cluster'].iloc[0]\n",
    "        supercluster = movie_value['combined_supercluster'].iloc[0]\n",
    "        megacluster = movie_value['combined_megacluster'].iloc[0]\n",
    "\n",
    "        rating = movie_value['age_rating'].iloc[0]\n",
    "\n",
    "        if rating == 'G':\n",
    "            remaining_movies = remaining_movies[(remaining_movies['age_rating'] == 'G') | (remaining_movies['age_rating'] == 'PG')]\n",
    "        elif rating == 'PG':\n",
    "            remaining_movies = remaining_movies[(remaining_movies['age_rating'] == 'G') | (remaining_movies['age_rating'] == 'PG') | (remaining_movies['age_rating'] == 'Passed') | (remaining_movies['age_rating'] == 'PG-13') | (remaining_movies['age_rating'] == 'Unknown')]\n",
    "        elif rating == 'PG-13':\n",
    "            remaining_movies = remaining_movies[(remaining_movies['age_rating'] == 'R') | (remaining_movies['age_rating'] == 'PG') | (remaining_movies['age_rating'] == 'PG-13') | (remaining_movies['age_rating'] == 'Unknown') | (remaining_movies['age_rating'] == 'Passed')]\n",
    "        elif rating == 'R':\n",
    "            remaining_movies = remaining_movies[(remaining_movies['age_rating'] == 'R') | (remaining_movies['age_rating'] == 'Unknown') | (remaining_movies['age_rating'] == 'Passed')]\n",
    "        elif rating == 'NC-17':\n",
    "            remaining_movies = remaining_movies[(remaining_movies['age_rating'] == 'R') | (remaining_movies['age_rating'] == 'NC-17')]\n",
    "        else:\n",
    "            remaining_movies = remaining_movies[(remaining_movies['age_rating'] == 'PG-13') | (remaining_movies['age_rating'] == 'Unknown') | (remaining_movies['age_rating'] == 'Passed')]\n",
    "        \n",
    "        movies_similar = remaining_movies[remaining_movies['combined_cluster'] == cluster]   \n",
    "                           \n",
    "        if len(movies_similar) < 30:\n",
    "            movies_similar = remaining_movies[remaining_movies['combined_supercluster'] == supercluster]\n",
    "        if len(movies_similar) < 30:\n",
    "            movies_similar = remaining_movies[remaining_movies['combined_megacluster'] == supercluster]\n",
    "            \n",
    "        #print(cluster)\n",
    "        if len(movies_similar) < 20:\n",
    "            movies_similar = remaining_movies\n",
    "        #print(len(movies_similar))\n",
    "\n",
    "        final_movies = movies_similar\n",
    "\n",
    "        movie_options = words_pivot[words_pivot.index.isin(final_movies.index)]\n",
    "        \n",
    "        movie_wanted = normalize(words_pivot[words_pivot.index == movie])\n",
    "        \n",
    "        movie_options_norm = normalize(movie_options)\n",
    "        movie_options = pd.DataFrame(movie_options_norm,columns=movie_options.columns,index=movie_options.index)\n",
    "        \n",
    "        #cos_sim = cosine_similarity(movie_options,movie_wanted)\n",
    "        #cos_sim = pd.Series(cos_sim.flatten(),index=movie_options.index)\n",
    "        \n",
    "        suggested_movies = movie_options\n",
    "            \n",
    "        \n",
    "        #print(suggested_movies)\n",
    "        \n",
    "        selected = movielens_movies[movielens_movies.index.isin(suggested_movies.index)].nlargest(5,'imdb_score').index\n",
    "        #selected = movielens_movies[movielens_movies.index.isin(movie_options.index)].nlargest(5,'imdb_score').index\n",
    "        score = 0\n",
    "        for val in selected:\n",
    "            unique_movies.add(val)\n",
    "            score = score + user_scaled[val]\n",
    "            #print(user_scaled[val])\n",
    "        score = score/5\n",
    "        totalscore = totalscore + score\n",
    "        \n",
    "        moviecount += 1\n",
    "        totalcount += 1\n",
    "        \n",
    "    print(totalcount)\n",
    "    print(totalscore)\n",
    "    print(len(unique_movies))"
   ]
  },
  {
   "cell_type": "markdown",
   "metadata": {},
   "source": [
    "The average score is about 0.74, higher than the full model, which is to be expected. The top 5 movies are naturally going to consistently receive high ratings."
   ]
  },
  {
   "cell_type": "code",
   "execution_count": 15,
   "metadata": {},
   "outputs": [
    {
     "data": {
      "text/plain": [
       "0.7419886979790223"
      ]
     },
     "execution_count": 15,
     "metadata": {},
     "output_type": "execute_result"
    }
   ],
   "source": [
    "totalscore/totalcount"
   ]
  },
  {
   "cell_type": "markdown",
   "metadata": {},
   "source": [
    "Here, I test the random model."
   ]
  },
  {
   "cell_type": "code",
   "execution_count": null,
   "metadata": {},
   "outputs": [],
   "source": [
    "trainusers = ratings_pivot\n",
    "\n",
    "unique_movies = set()\n",
    "totalcount = 0\n",
    "totalscore = 0\n",
    "\n",
    "for i in range(len(trainusers)):\n",
    "    moviecount = 0\n",
    "    user = trainusers.iloc[i,:].dropna()\n",
    "    user_scaled = scaler.fit_transform(user.values.reshape(-1,1))\n",
    "    #print(user_scaled)\n",
    "    user_scaled = pd.Series((s[0] for s in user_scaled),index=user.index)\n",
    "    user_scaled = user_scaled.sample(frac=1)\n",
    "    train_movies = movielens_movies\n",
    "    train_movies = train_movies[train_movies.index.isin(user_scaled.index)]\n",
    "    for movie in user_scaled.index:\n",
    "        # print(movie)\n",
    "        # print(moviecount)\n",
    "        if moviecount >= 10:\n",
    "            break\n",
    "        if movie not in train_movies.index:\n",
    "            continue\n",
    "        if movie not in words_pivot.index:\n",
    "            continue\n",
    "        #print(movie)\n",
    "        movie_value = train_movies[train_movies.index == movie]\n",
    "        remaining_movies = train_movies[train_movies.index != movie]\n",
    "        #print(len(remaining_movies))\n",
    "        cluster = movie_value['combined_cluster'].iloc[0]\n",
    "        supercluster = movie_value['combined_supercluster'].iloc[0]\n",
    "        megacluster = movie_value['combined_megacluster'].iloc[0]\n",
    "\n",
    "        rating = movie_value['age_rating'].iloc[0]\n",
    "\n",
    "        if rating == 'G':\n",
    "            remaining_movies = remaining_movies[(remaining_movies['age_rating'] == 'G') | (remaining_movies['age_rating'] == 'PG')]\n",
    "        elif rating == 'PG':\n",
    "            remaining_movies = remaining_movies[(remaining_movies['age_rating'] == 'G') | (remaining_movies['age_rating'] == 'PG') | (remaining_movies['age_rating'] == 'Passed') | (remaining_movies['age_rating'] == 'PG-13') | (remaining_movies['age_rating'] == 'Unknown')]\n",
    "        elif rating == 'PG-13':\n",
    "            remaining_movies = remaining_movies[(remaining_movies['age_rating'] == 'R') | (remaining_movies['age_rating'] == 'PG') | (remaining_movies['age_rating'] == 'PG-13') | (remaining_movies['age_rating'] == 'Unknown') | (remaining_movies['age_rating'] == 'Passed')]\n",
    "        elif rating == 'R':\n",
    "            remaining_movies = remaining_movies[(remaining_movies['age_rating'] == 'R') | (remaining_movies['age_rating'] == 'Unknown') | (remaining_movies['age_rating'] == 'Passed')]\n",
    "        elif rating == 'NC-17':\n",
    "            remaining_movies = remaining_movies[(remaining_movies['age_rating'] == 'R') | (remaining_movies['age_rating'] == 'NC-17')]\n",
    "        else:\n",
    "            remaining_movies = remaining_movies[(remaining_movies['age_rating'] == 'PG-13') | (remaining_movies['age_rating'] == 'Unknown') | (remaining_movies['age_rating'] == 'Passed')]\n",
    "        \n",
    "        movies_similar = remaining_movies[remaining_movies['combined_cluster'] == cluster]   \n",
    "                           \n",
    "        if len(movies_similar) < 30:\n",
    "            movies_similar = remaining_movies[remaining_movies['combined_supercluster'] == supercluster]\n",
    "        if len(movies_similar) < 30:\n",
    "            movies_similar = remaining_movies[remaining_movies['combined_megacluster'] == supercluster]\n",
    "            \n",
    "        #print(cluster)\n",
    "        if len(movies_similar) < 30:\n",
    "            movies_similar = remaining_movies\n",
    "        #print(len(movies_similar))\n",
    "\n",
    "        final_movies = movies_similar\n",
    "\n",
    "        movie_options = words_pivot[words_pivot.index.isin(final_movies.index)]\n",
    "        \n",
    "        movie_wanted = normalize(words_pivot[words_pivot.index == movie])\n",
    "        \n",
    "        movie_options_norm = normalize(movie_options)\n",
    "        movie_options = pd.DataFrame(movie_options_norm,columns=movie_options.columns,index=movie_options.index)\n",
    "        \n",
    "        #cos_sim = cosine_similarity(movie_options,movie_wanted)\n",
    "        #cos_sim = pd.Series(cos_sim.flatten(),index=movie_options.index)\n",
    "        \n",
    "        suggested_movies = movie_options\n",
    "            \n",
    "        \n",
    "        #print(suggested_movies)\n",
    "        \n",
    "        selected = movielens_movies[movielens_movies.index.isin(suggested_movies.index)].sample(n=5).index\n",
    "        #selected = movielens_movies[movielens_movies.index.isin(movie_options.index)].nlargest(5,'imdb_score').index\n",
    "        score = 0\n",
    "        for val in selected:\n",
    "            unique_movies.add(val)\n",
    "            score = score + user_scaled[val]\n",
    "            #print(user_scaled[val])\n",
    "        score = score/5\n",
    "        totalscore = totalscore + score\n",
    "        \n",
    "        moviecount += 1\n",
    "        totalcount += 1\n",
    "        \n",
    "    print(totalcount)\n",
    "    print(totalscore)\n",
    "    print(len(unique_movies))"
   ]
  },
  {
   "cell_type": "markdown",
   "metadata": {},
   "source": [
    "The score is approximately zero, as expected, since random choices will average out to the mean.\n",
    "\n",
    "This shows the value of the keyword filtering."
   ]
  },
  {
   "cell_type": "code",
   "execution_count": 16,
   "metadata": {},
   "outputs": [
    {
     "data": {
      "text/plain": [
       "-0.0028146892068657203"
      ]
     },
     "execution_count": 16,
     "metadata": {},
     "output_type": "execute_result"
    }
   ],
   "source": [
    "totalscore/totalcount"
   ]
  },
  {
   "cell_type": "markdown",
   "metadata": {},
   "source": [
    "Finally, I test the model that takes the top 5 without word filtering or genre information."
   ]
  },
  {
   "cell_type": "code",
   "execution_count": null,
   "metadata": {},
   "outputs": [],
   "source": [
    "trainusers = ratings_pivot\n",
    "\n",
    "unique_movies = set()\n",
    "totalcount = 0\n",
    "totalscore = 0\n",
    "\n",
    "for i in range(len(trainusers)):\n",
    "    moviecount = 0\n",
    "    user = trainusers.iloc[i,:].dropna()\n",
    "    user_scaled = scaler.fit_transform(user.values.reshape(-1,1))\n",
    "    #print(user_scaled)\n",
    "    user_scaled = pd.Series((s[0] for s in user_scaled),index=user.index)\n",
    "    user_scaled = user_scaled.sample(frac=1)\n",
    "    train_movies = movielens_movies\n",
    "    train_movies = train_movies[train_movies.index.isin(user_scaled.index)]\n",
    "    for movie in user_scaled.index:\n",
    "        # print(movie)\n",
    "        # print(moviecount)\n",
    "        if moviecount >= 10:\n",
    "            break\n",
    "        if movie not in train_movies.index:\n",
    "            continue\n",
    "        if movie not in words_pivot.index:\n",
    "            continue\n",
    "        #print(movie)\n",
    "        movie_value = train_movies[train_movies.index == movie]\n",
    "        remaining_movies = train_movies[train_movies.index != movie]\n",
    "        #print(len(remaining_movies))\n",
    "        cluster = movie_value['combined_cluster'].iloc[0]\n",
    "        supercluster = movie_value['combined_supercluster'].iloc[0]\n",
    "        megacluster = movie_value['combined_megacluster'].iloc[0]\n",
    "\n",
    "        rating = movie_value['age_rating'].iloc[0]\n",
    "\n",
    "        if rating == 'G':\n",
    "            remaining_movies = remaining_movies[(remaining_movies['age_rating'] == 'G') | (remaining_movies['age_rating'] == 'PG')]\n",
    "        elif rating == 'PG':\n",
    "            remaining_movies = remaining_movies[(remaining_movies['age_rating'] == 'G') | (remaining_movies['age_rating'] == 'PG') | (remaining_movies['age_rating'] == 'Passed') | (remaining_movies['age_rating'] == 'PG-13') | (remaining_movies['age_rating'] == 'Unknown')]\n",
    "        elif rating == 'PG-13':\n",
    "            remaining_movies = remaining_movies[(remaining_movies['age_rating'] == 'R') | (remaining_movies['age_rating'] == 'PG') | (remaining_movies['age_rating'] == 'PG-13') | (remaining_movies['age_rating'] == 'Unknown') | (remaining_movies['age_rating'] == 'Passed')]\n",
    "        elif rating == 'R':\n",
    "            remaining_movies = remaining_movies[(remaining_movies['age_rating'] == 'R') | (remaining_movies['age_rating'] == 'Unknown') | (remaining_movies['age_rating'] == 'Passed')]\n",
    "        elif rating == 'NC-17':\n",
    "            remaining_movies = remaining_movies[(remaining_movies['age_rating'] == 'R') | (remaining_movies['age_rating'] == 'NC-17')]\n",
    "        else:\n",
    "            remaining_movies = remaining_movies[(remaining_movies['age_rating'] == 'PG-13') | (remaining_movies['age_rating'] == 'Unknown') | (remaining_movies['age_rating'] == 'Passed')]\n",
    "        \n",
    "        movies_similar = remaining_movies[remaining_movies['combined_cluster'] == cluster]   \n",
    "                           \n",
    "        if len(movies_similar) < 30:\n",
    "            movies_similar = remaining_movies[remaining_movies['combined_supercluster'] == supercluster]\n",
    "        if len(movies_similar) < 30:\n",
    "            movies_similar = remaining_movies[remaining_movies['combined_megacluster'] == supercluster]\n",
    "            \n",
    "        #print(cluster)\n",
    "        if len(movies_similar) < 30:\n",
    "            movies_similar = remaining_movies\n",
    "        #print(len(movies_similar))\n",
    "\n",
    "        final_movies = remaining_movies\n",
    "\n",
    "        movie_options = words_pivot[words_pivot.index.isin(final_movies.index)]\n",
    "        \n",
    "        movie_wanted = normalize(words_pivot[words_pivot.index == movie])\n",
    "        \n",
    "        movie_options_norm = normalize(movie_options)\n",
    "        movie_options = pd.DataFrame(movie_options_norm,columns=movie_options.columns,index=movie_options.index)\n",
    "        \n",
    "        #cos_sim = cosine_similarity(movie_options,movie_wanted)\n",
    "        #cos_sim = pd.Series(cos_sim.flatten(),index=movie_options.index)\n",
    "        \n",
    "        suggested_movies = movie_options\n",
    "            \n",
    "        \n",
    "        #print(suggested_movies)\n",
    "        \n",
    "        selected = movielens_movies[movielens_movies.index.isin(suggested_movies.index)].nlargest(5,'imdb_score').index\n",
    "        #selected = movielens_movies[movielens_movies.index.isin(movie_options.index)].nlargest(5,'imdb_score').index\n",
    "        score = 0\n",
    "        for val in selected:\n",
    "            unique_movies.add(val)\n",
    "            score = score + user_scaled[val]\n",
    "            #print(user_scaled[val])\n",
    "        score = score/5\n",
    "        totalscore = totalscore + score\n",
    "        \n",
    "        moviecount += 1\n",
    "        totalcount += 1\n",
    "        \n",
    "    print(totalcount)\n",
    "    print(totalscore)\n",
    "    print(len(unique_movies))"
   ]
  },
  {
   "cell_type": "markdown",
   "metadata": {},
   "source": [
    "This has the highest score of all, which again is to be expected, since it draws from the most popular movies in the whole catalog. However, these movies only make up 0.2% of the catalog, so the model is of little practical value for a steaming service who want to make the most of the service they offer. Additionally, the more universally popular a movie is, the more likely someone is to have already seen it, showing the importance of personalization."
   ]
  },
  {
   "cell_type": "code",
   "execution_count": 8,
   "metadata": {},
   "outputs": [
    {
     "data": {
      "text/plain": [
       "1.013104441470619"
      ]
     },
     "execution_count": 8,
     "metadata": {},
     "output_type": "execute_result"
    }
   ],
   "source": [
    "totalscore/totalcount"
   ]
  },
  {
   "cell_type": "markdown",
   "metadata": {},
   "source": [
    "Here, I graphically display how the models compare:\n",
    "\n",
    "When it comes to average score, the top 5 models outperform the full model, which isn't surprising, but the full model still results in predictions scored significantly above average."
   ]
  },
  {
   "cell_type": "code",
   "execution_count": 49,
   "metadata": {},
   "outputs": [
    {
     "data": {
      "image/png": "[encoded data removed]",
      "text/plain": [
       "<Figure size 576x432 with 1 Axes>"
      ]
     },
     "metadata": {
      "needs_background": "light"
     },
     "output_type": "display_data"
    }
   ],
   "source": [
    "x = ['Random','Top 5, No Model', 'Just Genres, No Filtering', 'Full Model']\n",
    "y = [-0.0028,1.0131,0.7420,0.4991]\n",
    "x_pos = np.arange(len(x))\n",
    "fig = plt.bar(x_pos,y,color=['coral','steelblue','firebrick','gold'])\n",
    "for index, value in enumerate(y):\n",
    "    plt.text(index-0.15,value+0.01,s=str(value))\n",
    "plt.rcParams[\"figure.figsize\"] = (8,6)\n",
    "plt.xticks(x_pos, x)\n",
    "plt.xlabel('Model')\n",
    "plt.ylabel('Average standardized score')\n",
    "plt.show()"
   ]
  },
  {
   "cell_type": "markdown",
   "metadata": {},
   "source": [
    "When it comes to coverage, the full model vastly outperforms t5he top 5 models, which is very important for practical applications, as explained earlier."
   ]
  },
  {
   "cell_type": "code",
   "execution_count": 50,
   "metadata": {},
   "outputs": [
    {
     "data": {
      "image/png": "[encoded data removed]",
      "text/plain": [
       "<Figure size 576x432 with 1 Axes>"
      ]
     },
     "metadata": {
      "needs_background": "light"
     },
     "output_type": "display_data"
    }
   ],
   "source": [
    "x = ['Random','Top 5, No Model', 'Just Genres, No Filtering', 'Full Model']\n",
    "y = [0.9698,0.00163,0.04836,0.4133]\n",
    "x_pos = np.arange(len(x))\n",
    "fig = plt.bar(x_pos,y,color=['coral','steelblue','firebrick','gold'])\n",
    "for index, value in enumerate(y):\n",
    "    plt.text(index-0.15,value+0.01,s=str(value))\n",
    "plt.rcParams[\"figure.figsize\"] = (8,6)\n",
    "plt.xticks(x_pos, x)\n",
    "plt.xlabel('Model')\n",
    "plt.ylabel('Coverage')\n",
    "plt.show()"
   ]
  },
  {
   "cell_type": "markdown",
   "metadata": {},
   "source": [
    "Of the non-random models, the full model is the most performant when it comes to personalization too, outperforming the top 5 among genre clusters model and vastly outperforming the overall top 5 model."
   ]
  },
  {
   "cell_type": "code",
   "execution_count": 51,
   "metadata": {},
   "outputs": [
    {
     "data": {
      "image/png": "[encoded data removed]",
      "text/plain": [
       "<Figure size 576x432 with 1 Axes>"
      ]
     },
     "metadata": {
      "needs_background": "light"
     },
     "output_type": "display_data"
    }
   ],
   "source": [
    "x = ['Random','Top 5, No Model', 'Just Genres, No Filtering', 'Full Model']\n",
    "y = [0.9995,0.4170,0.9711,0.9972]\n",
    "x_pos = np.arange(len(x))\n",
    "fig = plt.bar(x_pos,y,color=['coral','steelblue','firebrick','gold'])\n",
    "for index, value in enumerate(y):\n",
    "    plt.text(index-0.15,value+0.01,s=str(value))\n",
    "plt.rcParams[\"figure.figsize\"] = (8,6)\n",
    "plt.xticks(x_pos, x)\n",
    "plt.xlabel('Model')\n",
    "plt.ylabel('Personalization')\n",
    "plt.show()"
   ]
  },
  {
   "cell_type": "markdown",
   "metadata": {},
   "source": [
    "The conclusion to draw is that recommendation is a trade off between the overall user score, and the other factors (voerage and personalization).\n",
    "\n",
    "This makes sense intuitively. Most people love The Shawshank Redemption and Forrest Gump, so if these two movies were consistently recommended, they'd receive high feedback under the condition that people hadn't already seen them. The problem is that many people already have seen these movies, in addition to other extremely popular movies. A recommender that personalizes choices to the extent that a large part of the available catalog is covered is much more desirable when it comes to giving practical recommendations that will inspire a new user to subscribe to a particular steaming service."
   ]
  },
  {
   "cell_type": "markdown",
   "metadata": {},
   "source": [
    "Finally, I will generate some more recommendations for popular movies, in order to show the model in action.\n",
    "\n",
    "Now that I have constructed the matrix of recommendations, all I need to do is access the relevant row of the matrix to find them, an extremely fast process. The current list of movies could be periodically updated with new releases, and reviews could be scraped from IMDb simultaneously, so that the model stays current.\n",
    "\n",
    "IMDb is a large and popular website, so there is no issue in relying on it for repeated data acquisition."
   ]
  },
  {
   "cell_type": "code",
   "execution_count": 7,
   "metadata": {},
   "outputs": [],
   "source": [
    "#matrix_random = pd.read_csv('personalization_matrix_random.csv')\n",
    "#matrix_top5 = pd.read_csv('personalization_matrix_top_5.csv')\n",
    "#matrix_no_words = pd.read_csv('personalization_matrix_no_words.csv')\n",
    "matrix_full_model = pd.read_csv('personalization.csv',index_col=0)"
   ]
  },
  {
   "cell_type": "markdown",
   "metadata": {},
   "source": [
    "First, I will check the recommendations for the classic war movie Platoon."
   ]
  },
  {
   "cell_type": "code",
   "execution_count": 76,
   "metadata": {},
   "outputs": [
    {
     "name": "stdout",
     "output_type": "stream",
     "text": [
      "214     1.0\n",
      "1222    1.0\n",
      "1242    1.0\n",
      "1299    1.0\n",
      "2028    1.0\n",
      "Name: 1090, dtype: float64\n"
     ]
    }
   ],
   "source": [
    "moviename = \"platoon\"\n",
    "moviename = moviename.lower()\n",
    "movie_id = title_id.index[title_id['title'] == moviename].values[0]\n",
    "\n",
    "movies = matrix_full_model.loc[movie_id,:]\n",
    "print(movies[movies == 1])"
   ]
  },
  {
   "cell_type": "markdown",
   "metadata": {},
   "source": [
    "Four of the recommendations are classic movies with military themes, similar to Platoon. The movie \"Before The Rain\" is a highly acclaimed Macedonian drama movie, which evidently has some overlapping themes with Platoon despite being different on the surface. This is an example of why a more personalized selection is valuable; it's unlikely that most American viewers will have seen this movie, but based on its critical response, it would be a very enjoyable watch."
   ]
  },
  {
   "cell_type": "code",
   "execution_count": 77,
   "metadata": {},
   "outputs": [
    {
     "name": "stdout",
     "output_type": "stream",
     "text": [
      "movieId\n",
      "214         Before the Rain\n",
      "1222      Full Metal Jacket\n",
      "1242                  Glory\n",
      "1299     The Killing Fields\n",
      "2028    Saving Private Ryan\n",
      "Name: title, dtype: object\n"
     ]
    }
   ],
   "source": [
    "print(movielens_movies[movielens_movies.index.isin(movies[movies == 1].index)]['title'])"
   ]
  },
  {
   "cell_type": "markdown",
   "metadata": {},
   "source": [
    "Now, I will show the recommendations for the classic Coen brothers movie No Country For Old Men."
   ]
  },
  {
   "cell_type": "code",
   "execution_count": 20,
   "metadata": {},
   "outputs": [
    {
     "name": "stdout",
     "output_type": "stream",
     "text": [
      "27866     1.0\n",
      "32025     1.0\n",
      "34271     1.0\n",
      "41863     1.0\n",
      "174727    1.0\n",
      "Name: 55820, dtype: float64\n",
      "movieId\n",
      "27866                          In My Father's Den\n",
      "32025                               Walk on Water\n",
      "34271                               Hustle & Flow\n",
      "41863     The Three Burials of Melquiades Estrada\n",
      "174727                                  Good Time\n",
      "Name: title, dtype: object\n"
     ]
    }
   ],
   "source": [
    "moviename = \"no country for old men\"\n",
    "moviename = moviename.lower()\n",
    "movie_id = title_id.index[title_id['title'] == moviename].values[0]\n",
    "\n",
    "movies = matrix_full_model.loc[movie_id,:]\n",
    "print(movies[movies == 1])\n",
    "print(movielens_movies[movielens_movies.index.isin(movies[movies == 1].index)]['title'])"
   ]
  },
  {
   "cell_type": "markdown",
   "metadata": {},
   "source": [
    "Most of the movies here are lesser known. Personally, I have watched The Three Burials of Melquiedes Estrada, and Good Time. The former is a drama with elements of crime in a western setting, similar to No Country, and also stars Tommy Lee Jones. The latter is in an urban setting, but also contains the mix of crime and drama that characterizes No Country. I am not familiar with the other movies, but a cursory look indicates that they are all dramas with mystery or crime/thriller elements, and are all highly regarded by critics. This again indicates the value of drawing from a wide base. It's highly likely the someone who enjoyed No Country For Old Men wouldn't have seen all of these movies, and that they would enjoy at least some of them."
   ]
  },
  {
   "cell_type": "markdown",
   "metadata": {},
   "source": [
    "In conclusion, I believe that the results indicate that my model performs well, finding a comfortable middle ground between average user ratings, coverage, and personalization.\n",
    "\n",
    "In addition to updating the model with more recent movies, other developments of the model could take into account additional information scraped from IMDb, such as the director and principal actors, since many people often consistently enjoy work/performances from the same people."
   ]
  },
  {
   "cell_type": "code",
   "execution_count": null,
   "metadata": {},
   "outputs": [],
   "source": []
  }
 ],
 "metadata": {
  "kernelspec": {
   "display_name": "Python 3",
   "language": "python",
   "name": "python3"
  },
  "language_info": {
   "codemirror_mode": {
    "name": "ipython",
    "version": 3
   },
   "file_extension": ".py",
   "mimetype": "text/x-python",
   "name": "python",
   "nbconvert_exporter": "python",
   "pygments_lexer": "ipython3",
   "version": "3.8.3"
  }
 },
 "nbformat": 4,
 "nbformat_minor": 4
}
