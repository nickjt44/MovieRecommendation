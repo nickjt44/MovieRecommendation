{
 "cells": [
  {
   "cell_type": "markdown",
   "metadata": {},
   "source": [
    "This is the first part of my project to build a movie recommendation system: retrieving and cleaning the relevant data.\n",
    "\n",
    "I will be using the full MovieLens dataset comprising over 25 million movie/user rating pairs, in addition to IMDb data that I will scrape from the web using custom Python code."
   ]
  },
  {
   "cell_type": "markdown",
   "metadata": {},
   "source": [
    "First, I will load the relevant Python libraries:"
   ]
  },
  {
   "cell_type": "code",
   "execution_count": 2,
   "metadata": {},
   "outputs": [],
   "source": [
    "import pandas as pd\n",
    "import matplotlib.pyplot as plt\n",
    "import requests\n",
    "from bs4 import BeautifulSoup"
   ]
  },
  {
   "cell_type": "markdown",
   "metadata": {},
   "source": [
    "Now, I will load the relevant datasets and examine them:"
   ]
  },
  {
   "cell_type": "code",
   "execution_count": 3,
   "metadata": {},
   "outputs": [
    {
     "name": "stdout",
     "output_type": "stream",
     "text": [
      "   userId  movieId  rating   timestamp\n",
      "0       1      307     3.5  1256677221\n",
      "1       1      481     3.5  1256677456\n",
      "2       1     1091     1.5  1256677471\n",
      "3       1     1257     4.5  1256677460\n",
      "4       1     1449     4.5  1256677264\n",
      "   movieId  imdbId   tmdbId\n",
      "0        1  114709    862.0\n",
      "1        2  113497   8844.0\n",
      "2        3  113228  15602.0\n",
      "3        4  114885  31357.0\n",
      "4        5  113041  11862.0\n"
     ]
    }
   ],
   "source": [
    "ratings = pd.read_csv('ratings.csv')\n",
    "links = pd.read_csv('links.csv')\n",
    "\n",
    "print(ratings.head())\n",
    "print(links.head())"
   ]
  },
  {
   "cell_type": "markdown",
   "metadata": {},
   "source": [
    "Timestamp data and tmdbId will not be necessary for this project, so I will remove them:"
   ]
  },
  {
   "cell_type": "code",
   "execution_count": 5,
   "metadata": {},
   "outputs": [],
   "source": [
    "ratings = ratings.iloc[:,:-1]\n",
    "links = links.iloc[:,:-1]"
   ]
  },
  {
   "cell_type": "markdown",
   "metadata": {},
   "source": [
    "Next, I will check the data quality of the files:"
   ]
  },
  {
   "cell_type": "code",
   "execution_count": 6,
   "metadata": {},
   "outputs": [
    {
     "name": "stdout",
     "output_type": "stream",
     "text": [
      "<class 'pandas.core.frame.DataFrame'>\n",
      "RangeIndex: 27753444 entries, 0 to 27753443\n",
      "Data columns (total 3 columns):\n",
      " #   Column   Dtype  \n",
      "---  ------   -----  \n",
      " 0   userId   int64  \n",
      " 1   movieId  int64  \n",
      " 2   rating   float64\n",
      "dtypes: float64(1), int64(2)\n",
      "memory usage: 635.2 MB\n",
      "None\n",
      "<class 'pandas.core.frame.DataFrame'>\n",
      "RangeIndex: 58098 entries, 0 to 58097\n",
      "Data columns (total 2 columns):\n",
      " #   Column   Non-Null Count  Dtype\n",
      "---  ------   --------------  -----\n",
      " 0   movieId  58098 non-null  int64\n",
      " 1   imdbId   58098 non-null  int64\n",
      "dtypes: int64(2)\n",
      "memory usage: 907.9 KB\n",
      "None\n",
      "userId     0\n",
      "movieId    0\n",
      "rating     0\n",
      "dtype: int64\n"
     ]
    }
   ],
   "source": [
    "print(ratings.info())\n",
    "print(links.info())\n",
    "\n",
    "print(ratings.isnull().sum())"
   ]
  },
  {
   "cell_type": "markdown",
   "metadata": {},
   "source": [
    "There appear to be no null or incorrect values in either dataset, as expected.\n",
    "\n",
    "However, the ratings set is very large, too large for many of the analyses I want to perform, so I will restrict the dataset to users who have watched over 1000 movies, and movies which have been watched by at least 50 users. "
   ]
  },
  {
   "cell_type": "code",
   "execution_count": 7,
   "metadata": {},
   "outputs": [
    {
     "name": "stdout",
     "output_type": "stream",
     "text": [
      "(27753444, 3)\n",
      "(4295475, 3)\n",
      "(4002692, 3)\n"
     ]
    }
   ],
   "source": [
    "print(ratings.shape)\n",
    "\n",
    "bool_filter_users = []\n",
    "value_counts_users = ratings['userId'].value_counts()\n",
    "\n",
    "for user in ratings['userId']:\n",
    "    if value_counts_users[user] >= 1000:\n",
    "        bool_filter_users.append(True)\n",
    "    else:\n",
    "        bool_filter_users.append(False)\n",
    "\n",
    "ratings = ratings[bool_filter_users]\n",
    "\n",
    "print(ratings.shape)\n",
    "\n",
    "bool_filter_movies = []\n",
    "value_counts_movies = ratings['movieId'].value_counts()\n",
    "\n",
    "for movie in ratings['movieId']:\n",
    "    if value_counts_movies[movie] >= 50:\n",
    "        bool_filter_movies.append(True)\n",
    "    else:\n",
    "        bool_filter_movies.append(False)\n",
    "\n",
    "ratings = ratings[bool_filter_movies]\n",
    "\n",
    "print(ratings.shape)"
   ]
  },
  {
   "cell_type": "markdown",
   "metadata": {},
   "source": [
    "Now I will save the new files."
   ]
  },
  {
   "cell_type": "code",
   "execution_count": 8,
   "metadata": {},
   "outputs": [
    {
     "name": "stdout",
     "output_type": "stream",
     "text": [
      "(10206, 2)\n"
     ]
    }
   ],
   "source": [
    "ratings.to_csv('ratings1000.csv')\n",
    "links = links[links['movieId'].isin(ratings['movieId'].unique())]\n",
    "print(links.shape)\n",
    "links.to_csv('links_reduced.csv')"
   ]
  },
  {
   "cell_type": "markdown",
   "metadata": {},
   "source": [
    "The 'imdbId' column in links does not match the format of the IDs used on the IMDb website, so I will use the following function and code to fix this."
   ]
  },
  {
   "cell_type": "code",
   "execution_count": 8,
   "metadata": {},
   "outputs": [],
   "source": [
    "def convert(x):\n",
    "    x = str(x)\n",
    "    while len(x) < 7:\n",
    "        x = '0' + x\n",
    "    x = 'tt' + x\n",
    "    return x"
   ]
  },
  {
   "cell_type": "code",
   "execution_count": 9,
   "metadata": {},
   "outputs": [],
   "source": [
    "links['imdbId_converted'] = links['imdbId'].apply(lambda x: convert(x))\n",
    "links = links.drop('imdbId',axis=1)\n",
    "links.to_csv('links_reduced.csv')"
   ]
  },
  {
   "cell_type": "markdown",
   "metadata": {},
   "source": [
    "Now it's time to scrape IMDb! The following code uses the requests package and BeautifulSoup to acquire the top 3 most 'helpful' reviews for each movie in the dataset. I needed to examine the IMDb website beforehand to determine how to construct this code.\n",
    "\n",
    "WARNING: This code takes a very long time to run."
   ]
  },
  {
   "cell_type": "code",
   "execution_count": null,
   "metadata": {},
   "outputs": [],
   "source": [
    "reviews_url_1 = \"https://www.imdb.com/title/\"\n",
    "reviews_url_2 = \"/reviews?ref_=tt_ql_op_3\"\n",
    "\n",
    "imdb = links[['movieId','imdbId_converted']]\n",
    "df = pd.DataFrame(columns=['movieId','imdbId','review_text'])\n",
    "\n",
    "for index,row in imdb.iterrows():\n",
    "    movieid = imdb.iloc[index,0]\n",
    "    idval = imdb.iloc[index,1]\n",
    "    address = reviews_url_1 + idval + reviews_url_2\n",
    "    print(address)\n",
    "    page = requests.get(address).text\n",
    "    bsObj = BeautifulSoup(page,features='lxml')\n",
    "    if bsObj.find('div') == None:\n",
    "        continue\n",
    "    reviews = bsObj.find_all('div',class_='text')\n",
    "    review_text = \"\"\n",
    "    for i in range(min(len(reviews),3)):\n",
    "        review_text = review_text + reviews[i].get_text()\n",
    "    \n",
    "    \n",
    "    \n",
    "    df = df.append({'movieId':movieid,'imdbId': idval,'review_text':review_text},ignore_index=True)\n",
    "df.to_csv('movie_reviews.csv')"
   ]
  },
  {
   "cell_type": "markdown",
   "metadata": {},
   "source": [
    "Now I scrape IMDb again to acquire all other relevant metadata about eac=h movie. Of particular interest are the titles, imdb scores, number of votes, the genres, and the ratings.\n",
    "\n",
    "Again, this code takes a very long time to run."
   ]
  },
  {
   "cell_type": "code",
   "execution_count": null,
   "metadata": {},
   "outputs": [],
   "source": [
    "mainurl = \"https://www.imdb.com/title/\"\n",
    "\n",
    "#imdb = pd.read_csv(\"links_reduced.csv\")\n",
    "\n",
    "imdb = links['imdbId_converted']\n",
    "\n",
    "#ids_titles = dict()\n",
    "rating_cats = ['Passed','G','PG','PG-13','R','NC-17']\n",
    "df = pd.DataFrame(columns=['imdbId','title','age_rating','time_minutes','genres','imdb_score','imdb_votes','director','actors','summary','language'])\n",
    "#df = pd.read_csv('id_title6.csv')\n",
    "#df = df.iloc[:,-11:]\n",
    "for idval in imdb.to_list():\n",
    "    page = requests.get(mainurl + idval).text\n",
    "    bsObj = BeautifulSoup(page,features='lxml')\n",
    "    if bsObj.find('h1') == None:\n",
    "        continue\n",
    "    title = bsObj.find('h1').get_text()\n",
    "    print(title)\n",
    "    info = bsObj.find('div',class_='subtext')\n",
    "    if info == None:\n",
    "        continue\n",
    "    info = info.get_text().split('|')\n",
    "    if len(info) != 4:\n",
    "        continue\n",
    "    rating = info[0]\n",
    "    rating = rating.replace(\" \", \"\")\n",
    "    rating = rating.replace(\"\\n\",\"\")\n",
    "    time = info[1]\n",
    "    time = time.replace(\"\\n\",\"\")\n",
    "    time = time.replace(\" \", \"\")\n",
    "    time = time.split('h')\n",
    "    \n",
    "    score = bsObj.find('span', itemprop='ratingValue').get_text()\n",
    "    votes = bsObj.find('span', itemprop='ratingCount').get_text()\n",
    "    \n",
    "    stars = bsObj.find_all('div',class_='credit_summary_item')\n",
    "    \n",
    "    director = 'None'\n",
    "    actors = 'None'\n",
    "    \n",
    "    if len(stars) == 3:\n",
    "        director = stars[0].find_all('a')[0].get_text()\n",
    "        director = director.rstrip()\n",
    "        director = director.replace('\\n','')\n",
    "        actors = stars[2].get_text()\n",
    "        actors = actors.replace('Stars:','')\n",
    "        actors = actors.split('|')\n",
    "        actors = actors[0].lstrip()\n",
    "    summary = bsObj.find('div',class_='summary_text').get_text().replace('\\n','').lstrip()\n",
    "    print(summary)\n",
    "        \n",
    "    \n",
    "    if len(time) == 1:\n",
    "        if 'min' in time[0]:\n",
    "            time_minutes = int(time[0].split('min')[0])\n",
    "        else:\n",
    "            time_minutes = int(time[0])*60\n",
    "    else:\n",
    "        if 'min' in time[1]:\n",
    "            time_minutes = int(time[0])*60 + int(time[1].split('min')[0])\n",
    "        else:\n",
    "            time_minutes = int(time[0])*60\n",
    "\n",
    "    if rating not in rating_cats:\n",
    "        rating = 'Unknown'\n",
    "    \n",
    "    txtblock = bsObj.find_all('div',class_='txt-block')\n",
    "    seemore = bsObj.find_all('div',class_='see-more')\n",
    "    \n",
    "    language = 'Unknown'\n",
    "    genres_list = \"\"\n",
    "    \n",
    "    for t in txtblock:\n",
    "        h4 = t.find('h4')\n",
    "        if h4 != None:\n",
    "            h4text = h4.get_text()\n",
    "        if h4text == 'Language:':\n",
    "            language = t.find_all('a')[0].get_text()\n",
    "        \n",
    "    \n",
    "    for t in seemore:\n",
    "        h4 = t.find('h4')\n",
    "        if h4 !=None:\n",
    "            h4text = h4.get_text()\n",
    "        if h4text == 'Genres:':\n",
    "            genres = t.find_all('a')\n",
    "            for genre in genres:\n",
    "                genretext = genre.get_text().replace(' ','')\n",
    "                genres_list = genres_list + genretext + ','\n",
    "    genres_list = genres_list[:-1]\n",
    "        \n",
    "    \n",
    "    \n",
    "    df = df.append({'imdbId': idval,'title':title, 'age_rating':rating, 'time_minutes':time_minutes, 'genres':genres_list, 'imdb_score':score, 'imdb_votes':votes, 'director': director, 'actors':actors, 'summary':summary, 'language':language},ignore_index=True)\n",
    "    print(df)\n",
    "df.to_csv('id_title.csv')"
   ]
  },
  {
   "cell_type": "markdown",
   "metadata": {},
   "source": [
    "Some minor massaging of the acquired data:"
   ]
  },
  {
   "cell_type": "code",
   "execution_count": 4,
   "metadata": {},
   "outputs": [
    {
     "name": "stdout",
     "output_type": "stream",
     "text": [
      "   Unnamed: 0  Unnamed: 0.1  movieId imdbId_converted\n",
      "0           0             0        1        tt0114709\n",
      "1           1             1        2        tt0113497\n",
      "2           2             2        3        tt0113228\n",
      "3           3             3        4        tt0114885\n",
      "4           4             4        5        tt0113041\n",
      "Index(['imdbId', 'title', 'age_rating', 'time_minutes', 'genres', 'imdb_score',\n",
      "       'imdb_votes', 'director', 'actors', 'summary', 'language', 'movieId'],\n",
      "      dtype='object')\n",
      "(9987, 12)\n"
     ]
    }
   ],
   "source": [
    "df = pd.read_csv('id_title.csv')\n",
    "links = pd.read_csv('links_reduced.csv')\n",
    "\n",
    "print(links.head())\n",
    "\n",
    "links = links.iloc[:,2:]\n",
    "\n",
    "df = df.merge(links,how='inner',left_on='imdbId',right_on='imdbId_converted')\n",
    "df = df.drop(['imdbId_converted'],axis=1)\n",
    "df = df.iloc[:,1:]\n",
    "\n",
    "print(df.columns)\n",
    "print(df.shape)"
   ]
  },
  {
   "cell_type": "markdown",
   "metadata": {},
   "source": [
    "I will call df.info to see some basic info about my new data."
   ]
  },
  {
   "cell_type": "code",
   "execution_count": 5,
   "metadata": {},
   "outputs": [
    {
     "name": "stdout",
     "output_type": "stream",
     "text": [
      "<class 'pandas.core.frame.DataFrame'>\n",
      "Int64Index: 9987 entries, 0 to 9986\n",
      "Data columns (total 12 columns):\n",
      " #   Column        Non-Null Count  Dtype  \n",
      "---  ------        --------------  -----  \n",
      " 0   imdbId        9987 non-null   object \n",
      " 1   title         9987 non-null   object \n",
      " 2   age_rating    9987 non-null   object \n",
      " 3   time_minutes  9987 non-null   int64  \n",
      " 4   genres        9987 non-null   object \n",
      " 5   imdb_score    9987 non-null   float64\n",
      " 6   imdb_votes    9987 non-null   object \n",
      " 7   director      9987 non-null   object \n",
      " 8   actors        9987 non-null   object \n",
      " 9   summary       9987 non-null   object \n",
      " 10  language      9987 non-null   object \n",
      " 11  movieId       9987 non-null   int64  \n",
      "dtypes: float64(1), int64(2), object(9)\n",
      "memory usage: 1014.3+ KB\n",
      "None\n"
     ]
    }
   ],
   "source": [
    "print(df.info())"
   ]
  },
  {
   "cell_type": "markdown",
   "metadata": {},
   "source": [
    "No nulls, good. However, the web-scraping code was pretty complex and has a lot of outputs, so let's invesitgate further and see if there are any duplicates."
   ]
  },
  {
   "cell_type": "code",
   "execution_count": 8,
   "metadata": {},
   "outputs": [
    {
     "name": "stdout",
     "output_type": "stream",
     "text": [
      "imdbId\n",
      "0\n",
      "title\n",
      "4\n",
      "age_rating\n",
      "9980\n",
      "time_minutes\n",
      "9750\n",
      "genres\n",
      "8438\n",
      "imdb_score\n",
      "9909\n",
      "imdb_votes\n",
      "710\n",
      "director\n",
      "6484\n",
      "actors\n",
      "380\n",
      "summary\n",
      "2\n",
      "language\n",
      "9925\n",
      "movieId\n",
      "0\n"
     ]
    }
   ],
   "source": [
    "for column in df.columns:\n",
    "    print(column)\n",
    "    print(len(df[df[column].duplicated()]))"
   ]
  },
  {
   "cell_type": "markdown",
   "metadata": {},
   "source": [
    "Interesting. There are four movies with duplicated titles (including date). This is certainly possible, however there are also two sets of movies with identical text summaries. This seems less likely."
   ]
  },
  {
   "cell_type": "code",
   "execution_count": 9,
   "metadata": {},
   "outputs": [
    {
     "name": "stdout",
     "output_type": "stream",
     "text": [
      "         imdbId                                    title age_rating  \\\n",
      "4495  tt0290538  Confessions of a Dangerous Mind (2002)           R   \n",
      "5394  tt0108906                       Riget                 Unknown   \n",
      "6204  tt0127392                       Riget                 Unknown   \n",
      "6270  tt0355987                 Salem's Lot                 Unknown   \n",
      "6381  tt0079844                 Salem's Lot                      PG   \n",
      "6544  tt0407304                War of the Worlds (2005)       PG-13   \n",
      "7663  tt0449040                War of the Worlds (2005)           R   \n",
      "9610  tt0270288  Confessions of a Dangerous Mind (2002)           R   \n",
      "\n",
      "      time_minutes                                         genres  imdb_score  \\\n",
      "4495           113  Biography,Comedy,Crime,Drama,Romance,Thriller         7.0   \n",
      "5394           561            Comedy,Drama,Fantasy,Horror,Mystery         8.3   \n",
      "6204           561            Comedy,Drama,Fantasy,Horror,Mystery         8.3   \n",
      "6270           181                  Drama,Horror,Mystery,Thriller         6.2   \n",
      "6381           200                                         Horror         6.8   \n",
      "6544           116                      Adventure,Sci-Fi,Thriller         6.5   \n",
      "7663            93                                  Horror,Sci-Fi         3.2   \n",
      "9610           113  Biography,Comedy,Crime,Drama,Romance,Thriller         7.0   \n",
      "\n",
      "     imdb_votes            director  \\\n",
      "4495     83,167      George Clooney   \n",
      "5394     16,806                None   \n",
      "6204     16,806                None   \n",
      "6270      9,619                None   \n",
      "6381     20,563                None   \n",
      "6544    413,107    Steven Spielberg   \n",
      "7663      2,415  David Michael Latt   \n",
      "9610     83,167      George Clooney   \n",
      "\n",
      "                                             actors  \\\n",
      "4495  Sam Rockwell, Drew Barrymore, George Clooney    \n",
      "5394                                           None   \n",
      "6204                                           None   \n",
      "6270                                           None   \n",
      "6381                                           None   \n",
      "6544       Tom Cruise, Dakota Fanning, Tim Robbins    \n",
      "7663   C. Thomas Howell, Rhett Giles, Andrew Lauer    \n",
      "9610  Sam Rockwell, Drew Barrymore, George Clooney    \n",
      "\n",
      "                                                summary language  movieId  \n",
      "4495  An adaptation of the cult memoir of game show ...  English     6003  \n",
      "5394  Doctors at an ultramodern hospital in Denmark ...   Danish     7505  \n",
      "6204  Doctors at an ultramodern hospital in Denmark ...   Danish    27033  \n",
      "6270  Writer Ben Mears (Rob Lowe) returns to his chi...  English    27751  \n",
      "6381  A novelist and a young horror fan attempt to s...  English    31502  \n",
      "6544  An updated version of H.G Wells' seminal sci-f...  English    34048  \n",
      "7663  A determined meteorologist must embark on a na...  English    64997  \n",
      "9610  An adaptation of the cult memoir of game show ...  English   144606  \n",
      "         imdbId                                    title age_rating  \\\n",
      "4495  tt0290538  Confessions of a Dangerous Mind (2002)           R   \n",
      "5394  tt0108906                       Riget                 Unknown   \n",
      "6204  tt0127392                       Riget                 Unknown   \n",
      "9610  tt0270288  Confessions of a Dangerous Mind (2002)           R   \n",
      "\n",
      "      time_minutes                                         genres  imdb_score  \\\n",
      "4495           113  Biography,Comedy,Crime,Drama,Romance,Thriller         7.0   \n",
      "5394           561            Comedy,Drama,Fantasy,Horror,Mystery         8.3   \n",
      "6204           561            Comedy,Drama,Fantasy,Horror,Mystery         8.3   \n",
      "9610           113  Biography,Comedy,Crime,Drama,Romance,Thriller         7.0   \n",
      "\n",
      "     imdb_votes        director  \\\n",
      "4495     83,167  George Clooney   \n",
      "5394     16,806            None   \n",
      "6204     16,806            None   \n",
      "9610     83,167  George Clooney   \n",
      "\n",
      "                                             actors  \\\n",
      "4495  Sam Rockwell, Drew Barrymore, George Clooney    \n",
      "5394                                           None   \n",
      "6204                                           None   \n",
      "9610  Sam Rockwell, Drew Barrymore, George Clooney    \n",
      "\n",
      "                                                summary language  movieId  \n",
      "4495  An adaptation of the cult memoir of game show ...  English     6003  \n",
      "5394  Doctors at an ultramodern hospital in Denmark ...   Danish     7505  \n",
      "6204  Doctors at an ultramodern hospital in Denmark ...   Danish    27033  \n",
      "9610  An adaptation of the cult memoir of game show ...  English   144606  \n"
     ]
    }
   ],
   "source": [
    "print(df[df['title'].duplicated(keep=False)])\n",
    "print(df[df['summary'].duplicated(keep=False)])"
   ]
  },
  {
   "cell_type": "markdown",
   "metadata": {},
   "source": [
    "Based on these results, it seems as though two of the cases are legitimately different movies with the same title from the same year, but that two of the cases are indeed duplicates, Riget and Confessions of a Dangerous Mind. I will drop the duplicates of both of these."
   ]
  },
  {
   "cell_type": "code",
   "execution_count": 10,
   "metadata": {},
   "outputs": [
    {
     "name": "stdout",
     "output_type": "stream",
     "text": [
      "(9985, 12)\n"
     ]
    }
   ],
   "source": [
    "df = df.drop_duplicates('summary',ignore_index=True)\n",
    "print(df.shape)"
   ]
  },
  {
   "cell_type": "markdown",
   "metadata": {},
   "source": [
    "Now it's time to examine the data on reviews I just collected:"
   ]
  },
  {
   "cell_type": "code",
   "execution_count": 13,
   "metadata": {},
   "outputs": [
    {
     "name": "stdout",
     "output_type": "stream",
     "text": [
      "   Unnamed: 0  movieId     imdbId  \\\n",
      "0           0        1  tt0114709   \n",
      "1           1        2  tt0113497   \n",
      "2           2        3  tt0113228   \n",
      "3           3        4  tt0114885   \n",
      "4           4        5  tt0113041   \n",
      "\n",
      "                                         review_text  \n",
      "0  Andy's toys live a reasonable life of fun and ...  \n",
      "1  I have not seen this movie in more then a deca...  \n",
      "2  Some people see this as an inferior sequel to ...  \n",
      "3  I read some of the other comments comcerning t...  \n",
      "4  I enjoyed this film, as I did Father of the Br...  \n",
      "<class 'pandas.core.frame.DataFrame'>\n",
      "RangeIndex: 10115 entries, 0 to 10114\n",
      "Data columns (total 4 columns):\n",
      " #   Column       Non-Null Count  Dtype \n",
      "---  ------       --------------  ----- \n",
      " 0   Unnamed: 0   10115 non-null  int64 \n",
      " 1   movieId      10115 non-null  int64 \n",
      " 2   imdbId       10115 non-null  object\n",
      " 3   review_text  10114 non-null  object\n",
      "dtypes: int64(2), object(2)\n",
      "memory usage: 316.2+ KB\n",
      "None\n"
     ]
    }
   ],
   "source": [
    "reviews = pd.read_csv('movie_reviews.csv')\n",
    "print(reviews.head())\n",
    "print(reviews.info())"
   ]
  },
  {
   "cell_type": "markdown",
   "metadata": {},
   "source": [
    "There seems to be a single entry for which there were no reviews. Since reviews are essential to this project, I will drop this row.\n",
    "\n",
    "I will also establish which movies are contained in both datasets, and make sure both have 100% overlap by removing inconsistent entries."
   ]
  },
  {
   "cell_type": "code",
   "execution_count": 14,
   "metadata": {},
   "outputs": [
    {
     "name": "stdout",
     "output_type": "stream",
     "text": [
      "     Unnamed: 0  movieId     imdbId review_text\n",
      "579         579      720  tt0118114         NaN\n"
     ]
    }
   ],
   "source": [
    "print(reviews[reviews['review_text'].isna()])"
   ]
  },
  {
   "cell_type": "code",
   "execution_count": 24,
   "metadata": {},
   "outputs": [
    {
     "name": "stdout",
     "output_type": "stream",
     "text": [
      "(10114, 4)\n",
      "(9985, 1)\n"
     ]
    }
   ],
   "source": [
    "reviews = reviews.dropna()\n",
    "print(reviews.shape)\n",
    "\n",
    "combined = reviews[['movieId']].merge(df[['movieId']],how='inner',on='movieId')\n",
    "print(combined.shape)"
   ]
  },
  {
   "cell_type": "code",
   "execution_count": 25,
   "metadata": {},
   "outputs": [
    {
     "name": "stdout",
     "output_type": "stream",
     "text": [
      "(9985, 4)\n"
     ]
    }
   ],
   "source": [
    "reviews = reviews[reviews['movieId'].isin(combined['movieId'])]\n",
    "print(reviews.shape)"
   ]
  },
  {
   "cell_type": "markdown",
   "metadata": {},
   "source": [
    "I believe that I have addressed the necessary issues for this part of the process. Time to save my files:"
   ]
  },
  {
   "cell_type": "code",
   "execution_count": 26,
   "metadata": {},
   "outputs": [],
   "source": [
    "df.to_csv('id_title_clean.csv')\n",
    "reviews.to_csv('movie_reviews_clean.csv')"
   ]
  },
  {
   "cell_type": "markdown",
   "metadata": {},
   "source": [
    "The next section will involve graphical and statistical exploration of the data, in addition to drawing insights from clustering."
   ]
  }
 ],
 "metadata": {
  "kernelspec": {
   "display_name": "Python 3",
   "language": "python",
   "name": "python3"
  },
  "language_info": {
   "codemirror_mode": {
    "name": "ipython",
    "version": 3
   },
   "file_extension": ".py",
   "mimetype": "text/x-python",
   "name": "python",
   "nbconvert_exporter": "python",
   "pygments_lexer": "ipython3",
   "version": "3.8.3"
  }
 },
 "nbformat": 4,
 "nbformat_minor": 4
}
