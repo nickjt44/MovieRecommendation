{
 "cells": [
  {
   "cell_type": "markdown",
   "metadata": {},
   "source": [
    "Now it's time to explore the data I gathered and cleaned in the previous notebook. I will begin by loading the relevant libraries again."
   ]
  },
  {
   "cell_type": "code",
   "execution_count": 85,
   "metadata": {},
   "outputs": [],
   "source": [
    "import pandas as pd\n",
    "import numpy as np\n",
    "import matplotlib.pyplot as plt\n",
    "import seaborn as sns\n",
    "import pickle as pkl\n",
    "from scipy.cluster.hierarchy import dendrogram\n",
    "from scipy.cluster.hierarchy import linkage\n",
    "from scipy.cluster.hierarchy import fcluster\n",
    "from sklearn.preprocessing import normalize"
   ]
  },
  {
   "cell_type": "markdown",
   "metadata": {},
   "source": [
    "Load in the ratings and movies data from last time."
   ]
  },
  {
   "cell_type": "code",
   "execution_count": 86,
   "metadata": {},
   "outputs": [
    {
     "name": "stdout",
     "output_type": "stream",
     "text": [
      "   Unnamed: 0     imdbId                                title age_rating  \\\n",
      "0           0  tt0114709                    Toy Story (1995)           G   \n",
      "1           1  tt0113497                      Jumanji (1995)          PG   \n",
      "2           2  tt0113228             Grumpier Old Men (1995)       PG-13   \n",
      "3           3  tt0114885            Waiting to Exhale (1995)           R   \n",
      "4           4  tt0113041  Father of the Bride Part II (1995)          PG   \n",
      "\n",
      "   time_minutes                                     genres  imdb_score  \\\n",
      "0            81  Animation,Adventure,Comedy,Family,Fantasy         8.3   \n",
      "1           104            Adventure,Comedy,Family,Fantasy         7.0   \n",
      "2           101                             Comedy,Romance         6.7   \n",
      "3           124                       Comedy,Drama,Romance         5.9   \n",
      "4           106                      Comedy,Family,Romance         6.1   \n",
      "\n",
      "  imdb_votes         director  \\\n",
      "0    877,804    John Lasseter   \n",
      "1    304,542     Joe Johnston   \n",
      "2     24,039    Howard Deutch   \n",
      "3      9,470  Forest Whitaker   \n",
      "4     34,191    Charles Shyer   \n",
      "\n",
      "                                             actors  \\\n",
      "0                Tom Hanks, Tim Allen, Don Rickles    \n",
      "1       Robin Williams, Kirsten Dunst, Bonnie Hunt    \n",
      "2         Walter Matthau, Jack Lemmon, Ann-Margret    \n",
      "3  Whitney Houston, Angela Bassett, Loretta Devine    \n",
      "4         Steve Martin, Diane Keaton, Martin Short    \n",
      "\n",
      "                                             summary language  movieId  \n",
      "0  A cowboy doll is profoundly threatened and jea...  English        1  \n",
      "1  When two kids find and play a magical board ga...  English        2  \n",
      "2  John and Max resolve to save their beloved bai...  English        3  \n",
      "3  Based on Terry McMillan's novel, this film fol...  English        4  \n",
      "4  George Banks must deal not only with the pregn...  English        5  \n"
     ]
    }
   ],
   "source": [
    "ratings = pd.read_csv('ratings1000.csv')\n",
    "\n",
    "movies = pd.read_csv('id_title_clean.csv')\n",
    "print(movies.head())\n",
    "movies = movies.iloc[:,1:]"
   ]
  },
  {
   "cell_type": "markdown",
   "metadata": {},
   "source": [
    "The following sections of code expand the genres column into a seperate column for each genre, with a 1 for each entry that belongs to that genre, and a 0 otherwise."
   ]
  },
  {
   "cell_type": "code",
   "execution_count": 87,
   "metadata": {},
   "outputs": [
    {
     "name": "stdout",
     "output_type": "stream",
     "text": [
      "0         [Animation, Adventure, Comedy, Family, Fantasy]\n",
      "1                    [Adventure, Comedy, Family, Fantasy]\n",
      "2                                       [Comedy, Romance]\n",
      "3                                [Comedy, Drama, Romance]\n",
      "4                               [Comedy, Family, Romance]\n",
      "                              ...                        \n",
      "9980    [Action, Adventure, Crime, Drama, Mystery, Thr...\n",
      "9981                           [Action, Sci-Fi, Thriller]\n",
      "9982                        [Action, Adventure, Thriller]\n",
      "9983                    [Action, Comedy, Crime, Thriller]\n",
      "9984                    [Biography, Comedy, Crime, Drama]\n",
      "Name: genres, Length: 9985, dtype: object\n"
     ]
    }
   ],
   "source": [
    "movies['genres'] = movies['genres'].str.split(\",\")\n",
    "print(movies['genres'])"
   ]
  },
  {
   "cell_type": "code",
   "execution_count": 88,
   "metadata": {},
   "outputs": [
    {
     "name": "stdout",
     "output_type": "stream",
     "text": [
      "{'Music', 'Drama', 'Fantasy', 'War', 'Sci-Fi', 'News', 'Biography', 'Thriller', 'Action', 'Family', 'History', 'Animation', 'Mystery', 'Short', 'Sport', 'Musical', 'Documentary', 'Crime', 'Romance', 'Comedy', 'Adventure', 'Film-Noir', 'Horror', 'Western'}\n"
     ]
    }
   ],
   "source": [
    "allgenres = set(movies['genres'].sum())\n",
    "print(allgenres)"
   ]
  },
  {
   "cell_type": "code",
   "execution_count": 89,
   "metadata": {},
   "outputs": [
    {
     "name": "stdout",
     "output_type": "stream",
     "text": [
      "imdbId                                                  tt0114709\n",
      "title                                           Toy Story (1995) \n",
      "age_rating                                                      G\n",
      "time_minutes                                                   81\n",
      "genres            [Animation, Adventure, Comedy, Family, Fantasy]\n",
      "imdb_score                                                    8.3\n",
      "imdb_votes                                                877,804\n",
      "director                                            John Lasseter\n",
      "actors                         Tom Hanks, Tim Allen, Don Rickles \n",
      "summary         A cowboy doll is profoundly threatened and jea...\n",
      "language                                                  English\n",
      "movieId                                                         1\n",
      "Music                                                           0\n",
      "Drama                                                           0\n",
      "Fantasy                                                         1\n",
      "War                                                             0\n",
      "Sci-Fi                                                          0\n",
      "News                                                            0\n",
      "Biography                                                       0\n",
      "Thriller                                                        0\n",
      "Action                                                          0\n",
      "Family                                                          1\n",
      "History                                                         0\n",
      "Animation                                                       1\n",
      "Mystery                                                         0\n",
      "Short                                                           0\n",
      "Sport                                                           0\n",
      "Musical                                                         0\n",
      "Documentary                                                     0\n",
      "Crime                                                           0\n",
      "Romance                                                         0\n",
      "Comedy                                                          1\n",
      "Adventure                                                       1\n",
      "Film-Noir                                                       0\n",
      "Horror                                                          0\n",
      "Western                                                         0\n",
      "Name: 0, dtype: object\n"
     ]
    }
   ],
   "source": [
    "for genre in allgenres:\n",
    "    movies[genre] = movies['genres'].apply(lambda x: 1 if genre in x else 0)\n",
    "\n",
    "print(movies.iloc[0,:])"
   ]
  },
  {
   "cell_type": "markdown",
   "metadata": {},
   "source": [
    "I have decided to drop movies with the category 'short', since people are unlikely to be seeking them, in addition to the categories 'Sport', 'News', and 'Music', because I believe they are unnecessarily specific."
   ]
  },
  {
   "cell_type": "code",
   "execution_count": 90,
   "metadata": {},
   "outputs": [
    {
     "name": "stdout",
     "output_type": "stream",
     "text": [
      "0            1\n",
      "1            2\n",
      "2            3\n",
      "3            4\n",
      "4            5\n",
      "         ...  \n",
      "9980    189041\n",
      "9981    189203\n",
      "9982    189333\n",
      "9983    189363\n",
      "9984    189713\n",
      "Name: movieId, Length: 9913, dtype: int64\n",
      "(9913, 31)\n"
     ]
    }
   ],
   "source": [
    "movies = movies[movies['Short'] == 0]\n",
    "movies = movies.drop('Short',axis=1)\n",
    "movies = movies.drop('Sport',axis=1)\n",
    "movies = movies.drop('summary',axis=1)\n",
    "movies = movies.drop('News',axis=1)\n",
    "movies = movies.drop('Music',axis=1)\n",
    "\n",
    "print(movies['movieId'])\n",
    "\n",
    "movies = movies[(movies.iloc[:,11:] != 0).any(axis=1)]\n",
    "\n",
    "print(movies.shape)"
   ]
  },
  {
   "cell_type": "markdown",
   "metadata": {},
   "source": [
    "The code below now displays the potential genres of a movie."
   ]
  },
  {
   "cell_type": "code",
   "execution_count": 91,
   "metadata": {},
   "outputs": [
    {
     "name": "stdout",
     "output_type": "stream",
     "text": [
      "movieId\n",
      "Index(['movieId', 'Drama', 'Fantasy', 'War', 'Sci-Fi', 'Biography', 'Thriller',\n",
      "       'Action', 'Family', 'History', 'Animation', 'Mystery', 'Musical',\n",
      "       'Documentary', 'Crime', 'Romance', 'Comedy', 'Adventure', 'Film-Noir',\n",
      "       'Horror', 'Western'],\n",
      "      dtype='object')\n"
     ]
    }
   ],
   "source": [
    "print(movies.columns[10])\n",
    "movies_genres = movies.iloc[:,10:]\n",
    "print(movies_genres.columns)"
   ]
  },
  {
   "cell_type": "markdown",
   "metadata": {},
   "source": [
    "My next task is to discover more information about the relationships between genres, in order to aid my model in making recommendations.\n",
    "\n",
    "First, I merge my movie genre data with the ratings dataset from movielens.\n",
    "\n",
    "For each user, I sum together all the movies they've watched of each genre. The purpose of this is to look for trends in which genres users are most likely to be interested in watching, eg. do users who watch a lot of romance movies also watch a lot of dramas, but not much horror? There is logical intuition regarding this given what's commonly known about movie genre demographics, but I would like to show that this is supported by the data."
   ]
  },
  {
   "cell_type": "code",
   "execution_count": 92,
   "metadata": {},
   "outputs": [
    {
     "name": "stdout",
     "output_type": "stream",
     "text": [
      "   userId  Drama  Fantasy  War  Sci-Fi  Biography  Thriller  Action  Family  \\\n",
      "0      81      0        1    0       0          0         0       0       1   \n",
      "1     134      0        1    0       0          0         0       0       1   \n",
      "2     173      0        1    0       0          0         0       0       1   \n",
      "3     235      0        1    0       0          0         0       0       1   \n",
      "4     239      0        1    0       0          0         0       0       1   \n",
      "\n",
      "   History  ...  Mystery  Musical  Documentary  Crime  Romance  Comedy  \\\n",
      "0        0  ...        0        0            0      0        0       1   \n",
      "1        0  ...        0        0            0      0        0       1   \n",
      "2        0  ...        0        0            0      0        0       1   \n",
      "3        0  ...        0        0            0      0        0       1   \n",
      "4        0  ...        0        0            0      0        0       1   \n",
      "\n",
      "   Adventure  Film-Noir  Horror  Western  \n",
      "0          1          0       0        0  \n",
      "1          1          0       0        0  \n",
      "2          1          0       0        0  \n",
      "3          1          0       0        0  \n",
      "4          1          0       0        0  \n",
      "\n",
      "[5 rows x 21 columns]\n"
     ]
    }
   ],
   "source": [
    "ratings_genre = ratings[['userId','movieId']].merge(movies_genres,how='inner',on='movieId')\n",
    "ratings_genre = ratings_genre.drop(['movieId'],axis=1)\n",
    "print(ratings_genre.head())"
   ]
  },
  {
   "cell_type": "code",
   "execution_count": 93,
   "metadata": {},
   "outputs": [
    {
     "name": "stdout",
     "output_type": "stream",
     "text": [
      "        Drama  Fantasy  War  Sci-Fi  Biography  Thriller  Action  Family  \\\n",
      "userId                                                                     \n",
      "81        449      173   39     281         60       381     412      80   \n",
      "134       262      299   18     441         18       431     549     188   \n",
      "173       517      247   61     300         65       504     548     170   \n",
      "214      1020      113  100     216        130       511     348      71   \n",
      "235       867      213   72     317        104       473     354     121   \n",
      "\n",
      "        History  Animation  Mystery  Musical  Documentary  Crime  Romance  \\\n",
      "userId                                                                      \n",
      "81           40         74      145       13           25    206      123   \n",
      "134           7        119      123       29            3    174      117   \n",
      "173          48         79      230       24           13    242      157   \n",
      "214          92         41      188       17           35    362      306   \n",
      "235          66         50      177       72           33    293      353   \n",
      "\n",
      "        Comedy  Adventure  Film-Noir  Horror  Western  \n",
      "userId                                                 \n",
      "81         339        302          5     109       14  \n",
      "134        420        477          2     229       22  \n",
      "173        385        411          0     218       24  \n",
      "214        430        244          2     109       25  \n",
      "235        635        337          8     206       41  \n"
     ]
    }
   ],
   "source": [
    "genres_by_user = ratings_genre.groupby(['userId']).sum()\n",
    "print(genres_by_user.head())"
   ]
  },
  {
   "cell_type": "markdown",
   "metadata": {},
   "source": [
    "The resulting dataframe contains the number of each movie genre watched by each user. However, I am interested in the genres themselves, so I transpose the data, and normalize it in preparation for analysis."
   ]
  },
  {
   "cell_type": "code",
   "execution_count": 94,
   "metadata": {},
   "outputs": [
    {
     "name": "stdout",
     "output_type": "stream",
     "text": [
      "userId         81        134       173       214       235       239     \\\n",
      "Drama        0.010621  0.006197  0.012229  0.024127  0.020508  0.021336   \n",
      "Fantasy      0.015324  0.026485  0.021879  0.010009  0.018867  0.016830   \n",
      "War          0.010125  0.004673  0.015837  0.025962  0.018693  0.012722   \n",
      "Sci-Fi       0.021351  0.033508  0.022794  0.016412  0.024086  0.015424   \n",
      "Biography    0.011695  0.003508  0.012669  0.025339  0.020271  0.014424   \n",
      "Thriller     0.015108  0.017091  0.019985  0.020263  0.018756  0.019113   \n",
      "Action       0.018494  0.024643  0.024598  0.015621  0.015890  0.012838   \n",
      "Family       0.009108  0.021404  0.019355  0.008083  0.013776  0.011841   \n",
      "History      0.011459  0.002005  0.013751  0.026357  0.018908  0.013465   \n",
      "Animation    0.016367  0.026320  0.017473  0.009068  0.011059  0.008183   \n",
      "Mystery      0.015153  0.012854  0.024035  0.019646  0.018497  0.021318   \n",
      "Musical      0.004335  0.009671  0.008004  0.005669  0.024012  0.020010   \n",
      "Documentary  0.012877  0.001545  0.006696  0.018028  0.016998  0.005151   \n",
      "Crime        0.012336  0.010420  0.014492  0.021678  0.017546  0.021618   \n",
      "Romance      0.006884  0.006549  0.008787  0.017127  0.019758  0.022892   \n",
      "Comedy       0.010807  0.013389  0.012273  0.013708  0.020243  0.021709   \n",
      "Adventure    0.016377  0.025867  0.022288  0.013232  0.018275  0.012581   \n",
      "Film-Noir    0.006084  0.002434  0.000000  0.002434  0.009734  0.006084   \n",
      "Horror       0.012280  0.025799  0.024560  0.012280  0.023208  0.022307   \n",
      "Western      0.007233  0.011366  0.012400  0.012916  0.021182  0.016533   \n",
      "\n",
      "userId         339       540       601       605     ...    282119    282172  \\\n",
      "Drama        0.006836  0.014878  0.014997  0.012560  ...  0.010550  0.019420   \n",
      "Fantasy      0.022764  0.009566  0.016741  0.015767  ...  0.013641  0.016475   \n",
      "War          0.004414  0.020510  0.014279  0.015058  ...  0.015318  0.016616   \n",
      "Sci-Fi       0.021199  0.006610  0.022111  0.021959  ...  0.029785  0.019603   \n",
      "Biography    0.002729  0.014424  0.013449  0.011500  ...  0.009161  0.024169   \n",
      "Thriller     0.011817  0.010191  0.022761  0.016496  ...  0.013482  0.023673   \n",
      "Action       0.015172  0.008304  0.027471  0.020424  ...  0.015980  0.023566   \n",
      "Family       0.013321  0.010588  0.011727  0.014345  ...  0.008539  0.015028   \n",
      "History      0.002292  0.019768  0.012319  0.011746  ...  0.013751  0.021200   \n",
      "Animation    0.024108  0.012165  0.010616  0.015261  ...  0.015261  0.014376   \n",
      "Mystery      0.012854  0.012645  0.017556  0.013899  ...  0.014212  0.022468   \n",
      "Musical      0.011339  0.012006  0.005002  0.016008  ...  0.010672  0.013673   \n",
      "Documentary  0.004636  0.013908  0.005151  0.005666  ...  0.009272  0.013393   \n",
      "Crime        0.008084  0.013294  0.021079  0.013534  ...  0.008144  0.022636   \n",
      "Romance      0.005373  0.013209  0.013657  0.012090  ...  0.006828  0.016064   \n",
      "Comedy       0.009564  0.010679  0.013325  0.013166  ...  0.007173  0.015493   \n",
      "Adventure    0.016052  0.009924  0.020228  0.019794  ...  0.016757  0.019468   \n",
      "Film-Noir    0.001217  0.020685  0.000000  0.001217  ...  0.002434  0.006084   \n",
      "Horror       0.025574  0.006760  0.015772  0.013744  ...  0.011153  0.009351   \n",
      "Western      0.003100  0.017566  0.014466  0.008783  ...  0.014983  0.014466   \n",
      "\n",
      "userId         282332    282374    282383    282403    282748    282808  \\\n",
      "Drama        0.009533  0.013861  0.019491  0.011590  0.008705  0.006907   \n",
      "Fantasy      0.015147  0.020727  0.009123  0.006909  0.016032  0.014704   \n",
      "War          0.007789  0.008048  0.024405  0.030376  0.008308  0.003635   \n",
      "Sci-Fi       0.015652  0.019375  0.009802  0.014132  0.025682  0.009878   \n",
      "Biography    0.006822  0.007992  0.020466  0.013839  0.005263  0.007407   \n",
      "Thriller     0.015822  0.022166  0.017011  0.018915  0.014077  0.006900   \n",
      "Action       0.017955  0.022444  0.010145  0.023431  0.020020  0.008843   \n",
      "Family       0.012865  0.015598  0.006603  0.003416  0.012751  0.017761   \n",
      "History      0.007735  0.007162  0.023778  0.024065  0.005730  0.004584   \n",
      "Animation    0.010174  0.019242  0.007299  0.001991  0.013713  0.012828   \n",
      "Mystery      0.012540  0.019960  0.019646  0.011704  0.010868  0.008674   \n",
      "Musical      0.006670  0.009338  0.007670  0.003668  0.007003  0.012673   \n",
      "Documentary  0.003606  0.010817  0.018028  0.002060  0.007726  0.038117   \n",
      "Crime        0.013953  0.019342  0.017007  0.016588  0.010420  0.008743   \n",
      "Romance      0.008396  0.011306  0.013377  0.005429  0.007276  0.008564   \n",
      "Comedy       0.011859  0.012560  0.010647  0.005738  0.011413  0.016832   \n",
      "Adventure    0.015293  0.019631  0.011551  0.015672  0.018330  0.012310   \n",
      "Film-Noir    0.001217  0.006084  0.018252  0.002434  0.001217  0.000000   \n",
      "Horror       0.011153  0.015322  0.006760  0.008787  0.009576  0.010027   \n",
      "Western      0.007233  0.010333  0.012916  0.019633  0.007233  0.007233   \n",
      "\n",
      "userId         283000    283195  \n",
      "Drama        0.025736  0.017362  \n",
      "Fantasy      0.022853  0.016918  \n",
      "War          0.019472  0.021029  \n",
      "Sci-Fi       0.016868  0.014664  \n",
      "Biography    0.038593  0.020076  \n",
      "Thriller     0.011539  0.014592  \n",
      "Action       0.013870  0.017326  \n",
      "Family       0.029260  0.024364  \n",
      "History      0.026643  0.019195  \n",
      "Animation    0.032955  0.019906  \n",
      "Mystery      0.015362  0.013690  \n",
      "Musical      0.052026  0.022011  \n",
      "Documentary  0.030391  0.013908  \n",
      "Crime        0.014072  0.018923  \n",
      "Romance      0.032127  0.016735  \n",
      "Comedy       0.029169  0.021805  \n",
      "Adventure    0.021909  0.019414  \n",
      "Film-Noir    0.012168  0.002434  \n",
      "Horror       0.003605  0.005633  \n",
      "Western      0.020149  0.011883  \n",
      "\n",
      "[20 rows x 2782 columns]\n"
     ]
    }
   ],
   "source": [
    "users_by_genre = genres_by_user.transpose()\n",
    "genres_scaled = normalize(users_by_genre)\n",
    "genres_scaled = pd.DataFrame(genres_scaled, columns=users_by_genre.columns,index=users_by_genre.index)\n",
    "\n",
    "print(genres_scaled)"
   ]
  },
  {
   "cell_type": "markdown",
   "metadata": {},
   "source": [
    "Here, I produced a simple bar chart of the counts of each genre in the dataset. Keep in mind that many movies belong to multiple genres, so the overall count will be greater than the number of movies."
   ]
  },
  {
   "cell_type": "code",
   "execution_count": 95,
   "metadata": {},
   "outputs": [
    {
     "name": "stdout",
     "output_type": "stream",
     "text": [
      "Drama        5506\n",
      "Fantasy      1129\n",
      "War           501\n",
      "Sci-Fi       1134\n",
      "Biography     637\n",
      "dtype: int64\n"
     ]
    },
    {
     "data": {
      "text/plain": [
       "Text(0.5, 1.0, 'Number of movies of each genre')"
      ]
     },
     "execution_count": 95,
     "metadata": {},
     "output_type": "execute_result"
    },
    {
     "data": {
      "image/png": "[encoded data removed]",
      "text/plain": [
       "<Figure size 432x288 with 1 Axes>"
      ]
     },
     "metadata": {
      "needs_background": "light"
     },
     "output_type": "display_data"
    }
   ],
   "source": [
    "movies_genres_counts = movies_genres.iloc[:,1:].transpose().sum(axis=1)\n",
    "print(movies_genres_counts.head())\n",
    "movies_genres_counts.plot(kind='bar')\n",
    "plt.xlabel('Genre')\n",
    "plt.ylabel('Count')\n",
    "plt.title('Number of movies of each genre')"
   ]
  },
  {
   "cell_type": "markdown",
   "metadata": {},
   "source": [
    "Here, I produced a heatmap of the correlation of each genre based on its normalized user interest using Seaborn.\n",
    "\n",
    "The lighter the color, the 'closer' the genres are. One can see that this follows ones natural intuition: there is a lot of overlap between interest in romance movies and dramas, so the color is light, not so much between romance and horror, so the color is dark."
   ]
  },
  {
   "cell_type": "code",
   "execution_count": 96,
   "metadata": {},
   "outputs": [
    {
     "data": {
      "image/png": "[encoded data removed]",
      "text/plain": [
       "<Figure size 432x288 with 2 Axes>"
      ]
     },
     "metadata": {
      "needs_background": "light"
     },
     "output_type": "display_data"
    }
   ],
   "source": [
    "heatmap = sns.heatmap(genres_scaled.transpose().corr(),vmin=0,vmax=1)"
   ]
  },
  {
   "cell_type": "markdown",
   "metadata": {},
   "source": [
    "The above visualization is valuable, but I would ideally like to find a way to cluster the genres so that, given a movie, my program will identify 'similar' genres to that movie and recommend from a pool of these movies.\n",
    "\n",
    "This can be achieved via hierarchical agglomerative clustering.\n",
    "\n",
    "The code below implements this, in addition to constructing a dendrogram displaying the results.\n",
    "\n",
    "The smaller the value of the connection, the 'closer' the genres are, eg. mystery and thriller are fairly similar, but documentaries are distinctly separate from other types of movies, so their connection is at a much higher value. It is necessary to note that film noir is so distant from every other genre because there are so few movies belonging to it that it isn't possible to determine its 'closeness' accurately.\n",
    "\n"
   ]
  },
  {
   "cell_type": "code",
   "execution_count": 97,
   "metadata": {},
   "outputs": [
    {
     "name": "stdout",
     "output_type": "stream",
     "text": [
      "['Drama', 'Fantasy', 'War', 'Sci-Fi', 'Biography', 'Thriller', 'Action', 'Family', 'History', 'Animation', 'Mystery', 'Musical', 'Documentary', 'Crime', 'Romance', 'Comedy', 'Adventure', 'Film-Noir', 'Horror', 'Western']\n"
     ]
    },
    {
     "data": {
      "image/png": "[encoded data removed]",
      "text/plain": [
       "<Figure size 432x288 with 1 Axes>"
      ]
     },
     "metadata": {
      "needs_background": "light"
     },
     "output_type": "display_data"
    }
   ],
   "source": [
    "genres_list = genres_scaled.index.tolist()\n",
    "print(genres_list)\n",
    "link = linkage(genres_scaled,method='ward')\n",
    "dend = dendrogram(link,labels=genres_list,orientation='right')"
   ]
  },
  {
   "cell_type": "markdown",
   "metadata": {},
   "source": [
    "This dendrogram is somewhat informative, but what would be even more valuable is if we compared pairs of genres. For example, comedy is, by default, very distinct from horror, and closer to romance and drama. However, horror-comedy is a popular genre, and one would naturally think that this would be closer to conventional horror in terms of demographic than it is to romance.\n",
    "\n",
    "The following code constructs columns for each genre pair with a number of movies greater than the cutoff (which I have made 200). The genre and genre pair columns are listed below."
   ]
  },
  {
   "cell_type": "code",
   "execution_count": 98,
   "metadata": {},
   "outputs": [
    {
     "name": "stdout",
     "output_type": "stream",
     "text": [
      "Index(['imdbId', 'title', 'age_rating', 'time_minutes', 'genres', 'imdb_score',\n",
      "       'imdb_votes', 'director', 'actors', 'language', 'movieId', 'Drama',\n",
      "       'Fantasy', 'War', 'Sci-Fi', 'Biography', 'Thriller', 'Action', 'Family',\n",
      "       'History', 'Animation', 'Mystery', 'Musical', 'Documentary', 'Crime',\n",
      "       'Romance', 'Comedy', 'Adventure', 'Film-Noir', 'Horror', 'Western',\n",
      "       'Drama_Fantasy', 'Drama_War', 'Drama_Sci-Fi', 'Drama_Biography',\n",
      "       'Drama_Thriller', 'Drama_Action', 'Drama_Family', 'Drama_History',\n",
      "       'Drama_Mystery', 'Drama_Crime', 'Drama_Romance', 'Drama_Comedy',\n",
      "       'Drama_Adventure', 'Drama_Horror', 'Fantasy_Sci-Fi', 'Fantasy_Action',\n",
      "       'Fantasy_Family', 'Fantasy_Animation', 'Fantasy_Romance',\n",
      "       'Fantasy_Comedy', 'Fantasy_Adventure', 'Fantasy_Horror',\n",
      "       'Sci-Fi_Thriller', 'Sci-Fi_Action', 'Sci-Fi_Comedy', 'Sci-Fi_Adventure',\n",
      "       'Sci-Fi_Horror', 'Thriller_Action', 'Thriller_Mystery',\n",
      "       'Thriller_Crime', 'Thriller_Romance', 'Thriller_Comedy',\n",
      "       'Thriller_Adventure', 'Thriller_Horror', 'Action_Crime',\n",
      "       'Action_Comedy', 'Action_Adventure', 'Family_Animation',\n",
      "       'Family_Comedy', 'Family_Adventure', 'Animation_Comedy',\n",
      "       'Animation_Adventure', 'Mystery_Crime', 'Mystery_Horror',\n",
      "       'Musical_Comedy', 'Crime_Romance', 'Crime_Comedy', 'Romance_Comedy',\n",
      "       'Romance_Adventure', 'Comedy_Adventure', 'Comedy_Horror'],\n",
      "      dtype='object')\n"
     ]
    }
   ],
   "source": [
    "cols = movies.columns[11:]\n",
    "\n",
    "for i in range(len(cols)):\n",
    "    for j in range(len(cols)):\n",
    "        if i >= j:\n",
    "            continue\n",
    "        col1 = cols[i]\n",
    "        col2 = cols[j]\n",
    "        colname = col1 + '_' + col2\n",
    "        movies[colname] = movies[col1] & movies[col2]\n",
    "        if np.count_nonzero(movies[colname]) < 200:\n",
    "            movies = movies.drop(colname,axis=1)\n",
    "            \n",
    "print(movies.columns)"
   ]
  },
  {
   "cell_type": "code",
   "execution_count": 99,
   "metadata": {},
   "outputs": [
    {
     "name": "stdout",
     "output_type": "stream",
     "text": [
      "Index(['movieId', 'Drama', 'Fantasy', 'War', 'Sci-Fi', 'Biography', 'Thriller',\n",
      "       'Action', 'Family', 'History', 'Animation', 'Mystery', 'Musical',\n",
      "       'Documentary', 'Crime', 'Romance', 'Comedy', 'Adventure', 'Film-Noir',\n",
      "       'Horror', 'Western', 'Drama_Fantasy', 'Drama_War', 'Drama_Sci-Fi',\n",
      "       'Drama_Biography', 'Drama_Thriller', 'Drama_Action', 'Drama_Family',\n",
      "       'Drama_History', 'Drama_Mystery', 'Drama_Crime', 'Drama_Romance',\n",
      "       'Drama_Comedy', 'Drama_Adventure', 'Drama_Horror', 'Fantasy_Sci-Fi',\n",
      "       'Fantasy_Action', 'Fantasy_Family', 'Fantasy_Animation',\n",
      "       'Fantasy_Romance', 'Fantasy_Comedy', 'Fantasy_Adventure',\n",
      "       'Fantasy_Horror', 'Sci-Fi_Thriller', 'Sci-Fi_Action', 'Sci-Fi_Comedy',\n",
      "       'Sci-Fi_Adventure', 'Sci-Fi_Horror', 'Thriller_Action',\n",
      "       'Thriller_Mystery', 'Thriller_Crime', 'Thriller_Romance',\n",
      "       'Thriller_Comedy', 'Thriller_Adventure', 'Thriller_Horror',\n",
      "       'Action_Crime', 'Action_Comedy', 'Action_Adventure', 'Family_Animation',\n",
      "       'Family_Comedy', 'Family_Adventure', 'Animation_Comedy',\n",
      "       'Animation_Adventure', 'Mystery_Crime', 'Mystery_Horror',\n",
      "       'Musical_Comedy', 'Crime_Romance', 'Crime_Comedy', 'Romance_Comedy',\n",
      "       'Romance_Adventure', 'Comedy_Adventure', 'Comedy_Horror'],\n",
      "      dtype='object')\n",
      "(9913, 82)\n"
     ]
    }
   ],
   "source": [
    "movies_genres = movies.iloc[:,10:]\n",
    "\n",
    "print(movies_genres.columns)\n",
    "\n",
    "print(movies.shape)"
   ]
  },
  {
   "cell_type": "markdown",
   "metadata": {},
   "source": [
    "The following code repeats what was done for the individual genres, in addition to making columns for individual genres disjoint from paired genres, for the sake of making the clustering process easier later on.\n",
    "\n",
    "This dendrogram is a lot more illustrative of how we should cluster the movies, though there are too many individual genres to include the titles in the graphic."
   ]
  },
  {
   "cell_type": "code",
   "execution_count": 100,
   "metadata": {},
   "outputs": [],
   "source": [
    "for genre in movies_genres.columns[1:21]:\n",
    "    for genre2 in movies_genres.columns[21:71]:\n",
    "        if genre in genre2:\n",
    "            movies_genres[genre] = movies_genres[genre] & ~movies_genres[genre2]"
   ]
  },
  {
   "cell_type": "code",
   "execution_count": 101,
   "metadata": {},
   "outputs": [
    {
     "name": "stdout",
     "output_type": "stream",
     "text": [
      "['Drama', 'Fantasy', 'War', 'Sci-Fi', 'Biography', 'Thriller', 'Action', 'Family', 'History', 'Animation', 'Mystery', 'Musical', 'Documentary', 'Crime', 'Romance', 'Comedy', 'Adventure', 'Film-Noir', 'Horror', 'Western', 'Drama_Fantasy', 'Drama_War', 'Drama_Sci-Fi', 'Drama_Biography', 'Drama_Thriller', 'Drama_Action', 'Drama_Family', 'Drama_History', 'Drama_Mystery', 'Drama_Crime', 'Drama_Romance', 'Drama_Comedy', 'Drama_Adventure', 'Drama_Horror', 'Fantasy_Sci-Fi', 'Fantasy_Action', 'Fantasy_Family', 'Fantasy_Animation', 'Fantasy_Romance', 'Fantasy_Comedy', 'Fantasy_Adventure', 'Fantasy_Horror', 'Sci-Fi_Thriller', 'Sci-Fi_Action', 'Sci-Fi_Comedy', 'Sci-Fi_Adventure', 'Sci-Fi_Horror', 'Thriller_Action', 'Thriller_Mystery', 'Thriller_Crime', 'Thriller_Romance', 'Thriller_Comedy', 'Thriller_Adventure', 'Thriller_Horror', 'Action_Crime', 'Action_Comedy', 'Action_Adventure', 'Family_Animation', 'Family_Comedy', 'Family_Adventure', 'Animation_Comedy', 'Animation_Adventure', 'Mystery_Crime', 'Mystery_Horror', 'Musical_Comedy', 'Crime_Romance', 'Crime_Comedy', 'Romance_Comedy', 'Romance_Adventure', 'Comedy_Adventure', 'Comedy_Horror']\n"
     ]
    },
    {
     "data": {
      "image/png": "[encoded data removed]",
      "text/plain": [
       "<Figure size 432x288 with 1 Axes>"
      ]
     },
     "metadata": {
      "needs_background": "light"
     },
     "output_type": "display_data"
    }
   ],
   "source": [
    "ratings_genre = ratings[['userId','movieId']].merge(movies_genres,how='inner',on='movieId')\n",
    "ratings_genre = ratings_genre.drop(['movieId'],axis=1)\n",
    "\n",
    "genres_by_user = ratings_genre.groupby(['userId']).sum()\n",
    "\n",
    "users_by_genre = genres_by_user.transpose()\n",
    "genres_scaled = normalize(users_by_genre)\n",
    "genres_scaled = pd.DataFrame(genres_scaled, columns=users_by_genre.columns,index=users_by_genre.index)\n",
    "\n",
    "genres_list = genres_scaled.index.tolist()\n",
    "print(genres_list)\n",
    "link = linkage(genres_scaled,method='ward')\n",
    "dend = dendrogram(link)"
   ]
  },
  {
   "cell_type": "markdown",
   "metadata": {},
   "source": [
    "I have decided to use the cutoff of 0.4 on the diagram for the smaller clusters, and 0.8 for the superclusters, the idea being that my algorithm will initially search the clusters for recommendations, but if the pool is too small, they will switch to the supercluster.\n",
    "\n",
    "The clusters and superclusters for each genre are listed below. An examination of how genres are clustered should be fairly consistent with intuition. However, due to making the individual genres disjoint from the dual genres, some of the former are perhaps unexpectedly in different clusters than the latter, eg. romantic dramas and romantic comedies are in the same cluster, but romance movies are in a different cluster. However, this does in fact make sense when you consider that 'romance' now excludes romantic dramas and comedies, in addition to any other genres which overlap for more than 200 movies.\n",
    "\n",
    "I save the cluster information to a pkl file."
   ]
  },
  {
   "cell_type": "code",
   "execution_count": 102,
   "metadata": {},
   "outputs": [
    {
     "name": "stdout",
     "output_type": "stream",
     "text": [
      "{'Drama': 6, 'Fantasy': 16, 'War': 12, 'Sci-Fi': 10, 'Biography': 1, 'Thriller': 3, 'Action': 26, 'Family': 11, 'History': 1, 'Animation': 18, 'Mystery': 21, 'Musical': 9, 'Documentary': 1, 'Crime': 2, 'Romance': 13, 'Comedy': 23, 'Adventure': 5, 'Film-Noir': 4, 'Horror': 15, 'Western': 12, 'Drama_Fantasy': 25, 'Drama_War': 6, 'Drama_Sci-Fi': 22, 'Drama_Biography': 6, 'Drama_Thriller': 20, 'Drama_Action': 19, 'Drama_Family': 9, 'Drama_History': 6, 'Drama_Mystery': 20, 'Drama_Crime': 20, 'Drama_Romance': 8, 'Drama_Comedy': 8, 'Drama_Adventure': 25, 'Drama_Horror': 14, 'Fantasy_Sci-Fi': 21, 'Fantasy_Action': 21, 'Fantasy_Family': 17, 'Fantasy_Animation': 17, 'Fantasy_Romance': 25, 'Fantasy_Comedy': 24, 'Fantasy_Adventure': 21, 'Fantasy_Horror': 15, 'Sci-Fi_Thriller': 22, 'Sci-Fi_Action': 22, 'Sci-Fi_Comedy': 24, 'Sci-Fi_Adventure': 22, 'Sci-Fi_Horror': 15, 'Thriller_Action': 19, 'Thriller_Mystery': 20, 'Thriller_Crime': 20, 'Thriller_Romance': 7, 'Thriller_Comedy': 23, 'Thriller_Adventure': 22, 'Thriller_Horror': 14, 'Action_Crime': 19, 'Action_Comedy': 24, 'Action_Adventure': 22, 'Family_Animation': 17, 'Family_Comedy': 17, 'Family_Adventure': 17, 'Animation_Comedy': 17, 'Animation_Adventure': 17, 'Mystery_Crime': 20, 'Mystery_Horror': 14, 'Musical_Comedy': 9, 'Crime_Romance': 7, 'Crime_Comedy': 23, 'Romance_Comedy': 8, 'Romance_Adventure': 25, 'Comedy_Adventure': 24, 'Comedy_Horror': 15}\n",
      "{'Drama': 4, 'Fantasy': 7, 'War': 5, 'Sci-Fi': 5, 'Biography': 1, 'Thriller': 2, 'Action': 12, 'Family': 5, 'History': 1, 'Animation': 9, 'Mystery': 11, 'Musical': 5, 'Documentary': 1, 'Crime': 1, 'Romance': 5, 'Comedy': 12, 'Adventure': 3, 'Film-Noir': 2, 'Horror': 6, 'Western': 5, 'Drama_Fantasy': 12, 'Drama_War': 4, 'Drama_Sci-Fi': 11, 'Drama_Biography': 4, 'Drama_Thriller': 10, 'Drama_Action': 10, 'Drama_Family': 5, 'Drama_History': 4, 'Drama_Mystery': 10, 'Drama_Crime': 10, 'Drama_Romance': 4, 'Drama_Comedy': 4, 'Drama_Adventure': 12, 'Drama_Horror': 6, 'Fantasy_Sci-Fi': 11, 'Fantasy_Action': 11, 'Fantasy_Family': 8, 'Fantasy_Animation': 8, 'Fantasy_Romance': 12, 'Fantasy_Comedy': 12, 'Fantasy_Adventure': 11, 'Fantasy_Horror': 6, 'Sci-Fi_Thriller': 11, 'Sci-Fi_Action': 11, 'Sci-Fi_Comedy': 12, 'Sci-Fi_Adventure': 11, 'Sci-Fi_Horror': 6, 'Thriller_Action': 10, 'Thriller_Mystery': 10, 'Thriller_Crime': 10, 'Thriller_Romance': 4, 'Thriller_Comedy': 12, 'Thriller_Adventure': 11, 'Thriller_Horror': 6, 'Action_Crime': 10, 'Action_Comedy': 12, 'Action_Adventure': 11, 'Family_Animation': 8, 'Family_Comedy': 8, 'Family_Adventure': 8, 'Animation_Comedy': 8, 'Animation_Adventure': 8, 'Mystery_Crime': 10, 'Mystery_Horror': 6, 'Musical_Comedy': 5, 'Crime_Romance': 4, 'Crime_Comedy': 12, 'Romance_Comedy': 4, 'Romance_Adventure': 12, 'Comedy_Adventure': 12, 'Comedy_Horror': 6}\n"
     ]
    }
   ],
   "source": [
    "clusters = fcluster(link,t=0.4,criterion='distance')\n",
    "superclusters = fcluster(link,t=0.8,criterion='distance')\n",
    "\n",
    "\n",
    "genre_cluster = dict()\n",
    "genre_supercluster = dict()\n",
    "for i in range(len(clusters)):\n",
    "    genre_cluster[genres_scaled.index[i]] = clusters[i]\n",
    "    genre_supercluster[genres_scaled.index[i]] = superclusters[i]\n",
    "    \n",
    "print(genre_cluster)\n",
    "print(genre_supercluster)\n",
    "\n",
    "pkl.dump([genre_cluster,genre_supercluster],open('movie_clusters.pkl','wb'))"
   ]
  },
  {
   "cell_type": "markdown",
   "metadata": {},
   "source": [
    "Clustering movies on decade also seems necessary. Someone who enjoyed a slick, modern sci-fi movie from 2010 isn't necessarily looking for a sci-fi movie from the 70s, which will be stylistically extremely different.\n",
    "\n",
    "The following function is a simple way to divide the movies by decade, based on their year of release.\n",
    "\n",
    "The code below uses regular expressions to separate the title from the date, and creates new columns for each decade, again with a 1 representing a movie which was released in that decade, and a 0 representing one that was not."
   ]
  },
  {
   "cell_type": "code",
   "execution_count": 103,
   "metadata": {},
   "outputs": [],
   "source": [
    "def get_decade(x):\n",
    "    x = int(x)\n",
    "    if x < 1920 and x >= 1910:\n",
    "        return '1910s'\n",
    "    elif x < 1930 and x >= 1920:\n",
    "        return '1920s'\n",
    "    elif x < 1940 and x >= 1930:\n",
    "        return '1930s'\n",
    "    elif x < 1950 and x >= 1940:\n",
    "        return '1940s'\n",
    "    elif x < 1960 and x >= 1950:\n",
    "        return '1950s'\n",
    "    elif x < 1970 and x >= 1960:\n",
    "        return '1960s'\n",
    "    elif x < 1980 and x >= 1970:\n",
    "        return '1970s'\n",
    "    elif x < 1990 and x >= 1980:\n",
    "        return '1980s'\n",
    "    elif x < 2000 and x >= 1990:\n",
    "        return '1990s'\n",
    "    elif x < 2010 and x >= 2000:\n",
    "        return '2000s'\n",
    "    elif x >= 2010:\n",
    "        return '2010s'\n",
    "    else:\n",
    "        return 'Unknown'"
   ]
  },
  {
   "cell_type": "code",
   "execution_count": 104,
   "metadata": {},
   "outputs": [
    {
     "name": "stdout",
     "output_type": "stream",
     "text": [
      "0       1995\n",
      "1       1995\n",
      "2       1995\n",
      "3       1995\n",
      "4       1995\n",
      "        ... \n",
      "9980    2018\n",
      "9981    2018\n",
      "9982    2018\n",
      "9983    2018\n",
      "9984    2018\n",
      "Name: dates, Length: 9913, dtype: object\n",
      "(9821, 83)\n"
     ]
    }
   ],
   "source": [
    "movies['dates'] = movies['title'].str[-6:-2]\n",
    "movies['title'] = movies['title'].str.replace(r'\\s\\((.*)','')\n",
    "\n",
    "print(movies['dates'])\n",
    "\n",
    "movies = movies[movies['dates'].str.isnumeric()]\n",
    "print(movies.shape)"
   ]
  },
  {
   "cell_type": "code",
   "execution_count": 105,
   "metadata": {},
   "outputs": [],
   "source": [
    "movies['decade'] = movies['dates'].apply(lambda x: get_decade(x))"
   ]
  },
  {
   "cell_type": "code",
   "execution_count": 106,
   "metadata": {},
   "outputs": [],
   "source": [
    "decades = movies['decade'].unique()\n",
    "for decade in decades:\n",
    "    movies[decade] = movies['decade'].apply(lambda x: 1 if x == decade else 0)"
   ]
  },
  {
   "cell_type": "code",
   "execution_count": 107,
   "metadata": {},
   "outputs": [],
   "source": [
    "movies_decades = movies.loc[:,['movieId','1990s', '1970s', '1980s', '1960s',\n",
    "       '1930s', '1940s', '1950s', '1920s', '1910s', '2000s', '2010s']]"
   ]
  },
  {
   "cell_type": "markdown",
   "metadata": {},
   "source": [
    "Using very similar code to what was used for genres, the code below constructs another dendrogram, this time for the decade.\n",
    "\n",
    "It appears that movies released in the 2000s and 2010s are in their own category more distinct from anything else, movies from the 80s and 90s are similar, and movies ranging from the 30s to the 70s are all fairly close. Finally, movies from the 1910s and 1920s are separate from the rest.\n",
    "\n",
    "Remember, these dendrograms represent the demographics that will watch a type of movie, so this is once again fairly consistent with intuition. Many people are only interested in modern movies, and despite considerable difference between a movie released in the 30s and one released in the 70s, they would both be perceived as 'classic', and would attract a similar crowd."
   ]
  },
  {
   "cell_type": "code",
   "execution_count": 108,
   "metadata": {},
   "outputs": [
    {
     "name": "stdout",
     "output_type": "stream",
     "text": [
      "        1990s  1970s  1980s  1960s  1930s  1940s  1950s  1920s  1910s  2000s  \\\n",
      "userId                                                                         \n",
      "81        192     32     77     20      4     11     11      0      0    606   \n",
      "134       284     67    254     27      3      4      6      1      0    297   \n",
      "173       245     24    107     12      2      2      1      0      0    578   \n",
      "214       531     39    143     14      0      5      3      1      0    561   \n",
      "235       517    170    379    126     21     33     80      2      1    362   \n",
      "\n",
      "        2010s  \n",
      "userId         \n",
      "81        110  \n",
      "134       227  \n",
      "173       353  \n",
      "214       217  \n",
      "235         0  \n"
     ]
    },
    {
     "data": {
      "image/png": "[encoded data removed]",
      "text/plain": [
       "<Figure size 432x288 with 1 Axes>"
      ]
     },
     "metadata": {
      "needs_background": "light"
     },
     "output_type": "display_data"
    }
   ],
   "source": [
    "ratings_decade = ratings[['userId','movieId']].merge(movies_decades,how='inner',on='movieId')\n",
    "ratings_decade = ratings_decade.drop(['movieId'],axis=1)\n",
    "decades_by_user = ratings_decade.groupby(['userId']).sum()\n",
    "\n",
    "print(decades_by_user.head())\n",
    "\n",
    "users_by_decade = decades_by_user.transpose()\n",
    "decades_scaled = normalize(users_by_decade)\n",
    "decades_scaled = pd.DataFrame(decades_scaled, columns=users_by_decade.columns,index=users_by_decade.index)\n",
    "\n",
    "link = linkage(decades_scaled,method='ward')\n",
    "dend = dendrogram(link,labels=users_by_decade.index.to_list(),orientation='right')"
   ]
  },
  {
   "cell_type": "markdown",
   "metadata": {},
   "source": [
    "The following code clusters the movies based on the results above."
   ]
  },
  {
   "cell_type": "code",
   "execution_count": 109,
   "metadata": {},
   "outputs": [],
   "source": [
    "def get_cluster(x):\n",
    "    if x == '1910s' or x == '1920s':\n",
    "        return 0\n",
    "    elif x == '1930s' or x == '1940s' or x == '1950s':\n",
    "        return 1\n",
    "    elif x == '1960s' or x == '1970s':\n",
    "        return 2\n",
    "    elif x == '1980s' or x == '1990s':\n",
    "        return 3\n",
    "    elif x == '2000s' or x == '2010s':\n",
    "        return 4\n",
    "    else:\n",
    "        return 'Unknown'\n",
    "    \n",
    "def get_supercluster(x):\n",
    "    if x == 0 or x == 1 or x == 2 or x == 3:\n",
    "        return 0\n",
    "    elif x == 4:\n",
    "        return 1\n",
    "    else:\n",
    "        return 'Unknown'"
   ]
  },
  {
   "cell_type": "code",
   "execution_count": 110,
   "metadata": {},
   "outputs": [],
   "source": [
    "movies['decade_cluster'] = movies['decade'].apply(lambda x: get_cluster(x))\n",
    "movies['decade_supercluster'] = movies['decade_cluster'].apply(lambda x: get_supercluster(x))"
   ]
  },
  {
   "cell_type": "markdown",
   "metadata": {},
   "source": [
    "Finally, I save the movie data to a new csv file."
   ]
  },
  {
   "cell_type": "code",
   "execution_count": 111,
   "metadata": {},
   "outputs": [],
   "source": [
    "movies.to_csv('movies_everything.csv')"
   ]
  },
  {
   "cell_type": "markdown",
   "metadata": {},
   "source": [
    "A lot of insights into the data have been gained from this section of the project, in addition to progress in partitioning the movies into separate groups for potential recommendation.\n",
    "\n",
    "In the next section, I will continue this process, as well as processing the review text data that was scraped in the previous section, and other preprocessing tasks so that the data is ready for modeling and testing."
   ]
  },
  {
   "cell_type": "code",
   "execution_count": null,
   "metadata": {},
   "outputs": [],
   "source": []
  }
 ],
 "metadata": {
  "kernelspec": {
   "display_name": "Python 3",
   "language": "python",
   "name": "python3"
  },
  "language_info": {
   "codemirror_mode": {
    "name": "ipython",
    "version": 3
   },
   "file_extension": ".py",
   "mimetype": "text/x-python",
   "name": "python",
   "nbconvert_exporter": "python",
   "pygments_lexer": "ipython3",
   "version": "3.8.3"
  }
 },
 "nbformat": 4,
 "nbformat_minor": 4
}
